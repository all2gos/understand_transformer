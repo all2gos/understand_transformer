{
  "nbformat": 4,
  "nbformat_minor": 0,
  "metadata": {
    "colab": {
      "provenance": [],
      "toc_visible": true
    },
    "kernelspec": {
      "name": "python3",
      "display_name": "Python 3"
    },
    "language_info": {
      "name": "python"
    }
  },
  "cells": [
    {
      "cell_type": "markdown",
      "metadata": {
        "id": "RWQW6-BequN-"
      },
      "source": [
        "# Making Transformer From Scratch Using PyTorch"
      ]
    },
    {
      "cell_type": "markdown",
      "metadata": {
        "id": "NvlaMr3Nq7O3"
      },
      "source": [
        "\"*Large Language Models(LLM) have taken ~the NLP community~ ~AI community~ **the Whole World** by storm*\"\n",
        "\n",
        "And the elementary building block of large language models (the GPT ones) is the transformer. Therefore, in this project, I would like to focus on trying to understand how this architecture works and trying to create it from scratch.\n",
        "\n",
        "Of course, due to some computational limitations, I have to limit myself to a relatively small database and architecture."
      ]
    },
    {
      "cell_type": "markdown",
      "metadata": {
        "id": "tS2IE3JOsLoY"
      },
      "source": [
        "## Theoretical Background"
      ]
    },
    {
      "cell_type": "markdown",
      "metadata": {
        "id": "-0Q_IORpsOQG"
      },
      "source": [
        "I am very interested in understanding the workflow of this architecture, and therefore I would like to simultaneously have a solid understanding of the theoretical basis of its operation at the same time without forgetting that still the transformer remains a tool of my work and there is a certain limit to its knowledge, which is not necessary to cross.\n",
        "\n",
        "There are several sources that I intend to use:\n",
        "\n",
        "1. The publication that first described the transformer architecture: [Attention is All You Need](https://arxiv.org/abs/1706.03762) and the following important publications in the subject (most are listed in the repository from point 2)\n",
        "2. A [repository on GitHub](https://github.com/Hannibal046/Awesome-LLM?tab=readme-ov-file) that is a treasure trove of knowledge on the subject of LLM\n",
        "3. [Repository on GitHub](https://github.com/mlabonne/llm-course) being a course to LLM\n",
        "4. A very [helpful website](https://bbycroft.net/llm?utm_source=tldrai) in the whole learning process showing the operation of the Transformer interactively\n",
        "5. Countless articles (also videos) scattered in various corners of the Internet (mainly [this excellent tutorial](https://www.youtube.com/watch?v=kCc8FmEb1nY)]\n",
        "6. [Endless conversations with ChatGPT](https://chat.openai.com/share/d52324ae-7813-49fc-bd0a-e2bae5cad81c)"
      ]
    },
    {
      "cell_type": "markdown",
      "metadata": {
        "id": "_wxVtov9wLb3"
      },
      "source": [
        "## Preparing Database"
      ]
    },
    {
      "cell_type": "code",
      "execution_count": null,
      "metadata": {
        "colab": {
          "base_uri": "https://localhost:8080/"
        },
        "id": "pxy_SzOOsLDf",
        "outputId": "737acd69-e56e-4ef5-ff70-b96b14c09360"
      },
      "outputs": [
        {
          "name": "stdout",
          "output_type": "stream",
          "text": [
            "--2024-01-27 18:00:44--  https://raw.githubusercontent.com/karpathy/char-rnn/master/data/tinyshakespeare/input.txt\n",
            "Resolving raw.githubusercontent.com (raw.githubusercontent.com)... 185.199.108.133, 185.199.109.133, 185.199.110.133, ...\n",
            "Connecting to raw.githubusercontent.com (raw.githubusercontent.com)|185.199.108.133|:443... connected.\n",
            "HTTP request sent, awaiting response... 200 OK\n",
            "Length: 1115394 (1.1M) [text/plain]\n",
            "Saving to: ‘input.txt.2’\n",
            "\n",
            "\rinput.txt.2           0%[                    ]       0  --.-KB/s               \rinput.txt.2         100%[===================>]   1.06M  --.-KB/s    in 0.03s   \n",
            "\n",
            "2024-01-27 18:00:45 (38.1 MB/s) - ‘input.txt.2’ saved [1115394/1115394]\n",
            "\n"
          ]
        }
      ],
      "source": [
        "#everyone who wants to perform transformer training on a small dataset uses the so-called tiny-shakespeare database for this purpose. I do not intend to be an exception in this topic\n",
        "\n",
        "#downloading the file\n",
        "!wget https://raw.githubusercontent.com/karpathy/char-rnn/master/data/tinyshakespeare/input.txt"
      ]
    },
    {
      "cell_type": "code",
      "execution_count": null,
      "metadata": {
        "colab": {
          "base_uri": "https://localhost:8080/"
        },
        "id": "qO8WnDMJq40m",
        "outputId": "ce0a17c8-551f-44b4-816a-96f5f9a9d680"
      },
      "outputs": [
        {
          "name": "stdout",
          "output_type": "stream",
          "text": [
            "Length of input.txt (characters): 1115394\n",
            "Number of words: 202651\n",
            "First 300 characters: First Citizen:\n",
            "Before we proceed any further, hear me speak.\n",
            "\n",
            "All:\n",
            "Speak, speak.\n",
            "\n",
            "First Citizen:\n",
            "You are all resolved rather to die than to famish?\n",
            "\n",
            "All:\n",
            "Resolved. resolved.\n",
            "\n",
            "First Citizen:\n",
            "First, you know Caius Marcius is chief enemy to the people.\n",
            "\n",
            "All:\n",
            "We know't, we know't.\n",
            "\n",
            "First Citizen:\n",
            "Let us\n"
          ]
        }
      ],
      "source": [
        "#let's look at our data\n",
        "with open('input.txt') as f:\n",
        "    text = f.read()\n",
        "print('Length of input.txt (characters):',len(text))\n",
        "print('Number of words:',len(text.split()))\n",
        "print('First 300 characters:',text[:300])"
      ]
    },
    {
      "cell_type": "markdown",
      "metadata": {
        "id": "S8paNR_Nv3gk"
      },
      "source": [
        "Thus, we have a database of more than 200,000 words. The first step in any machine learning process is proper data preparation. In our case, it will be necessary to use a process called tokenization, which is the division of the entire database into shorter fragments (tokens). A common strategy here is to use tokens based on sub-word sequences (for example OpenAI has [tiktoken](https://github.com/openai/tiktoken) repository, which has about 50,000 tokens in the dictionary.)"
      ]
    },
    {
      "cell_type": "code",
      "execution_count": null,
      "metadata": {
        "colab": {
          "base_uri": "https://localhost:8080/"
        },
        "id": "Hf0jOQjpviUF",
        "outputId": "91f3029a-bf7e-4769-dfc8-3df7c5acdf95"
      },
      "outputs": [
        {
          "name": "stdout",
          "output_type": "stream",
          "text": [
            "All word-based tokens: 25670\n",
            "Ignore case-sensitivity: 23641\n"
          ]
        }
      ],
      "source": [
        "words = set(text.split())\n",
        "print('All word-based tokens:',len(words))\n",
        "words = set(text.lower().split())\n",
        "print('Ignore case-sensitivity:',len(words))"
      ]
    },
    {
      "cell_type": "markdown",
      "metadata": {
        "id": "cVUrIZaJxbFC"
      },
      "source": [
        "In our situation, single-character tokenization will be necessary, although I will try to return to this topic and see what effect different tokenization approaches have on the final result of training. Also, neural networks are not capable of analyzing data other than numeric, it is necessary to change the representation of our tokens to numeric."
      ]
    },
    {
      "cell_type": "code",
      "execution_count": null,
      "metadata": {
        "colab": {
          "base_uri": "https://localhost:8080/"
        },
        "id": "aDQFDbpbxVic",
        "outputId": "bb3aeb4a-06b8-457b-9680-c4726b158032"
      },
      "outputs": [
        {
          "name": "stdout",
          "output_type": "stream",
          "text": [
            "Character to index: {'x': 0, 'F': 1, 'Y': 2, 'G': 3, 't': 4, 'z': 5, 'l': 6, 'N': 7, 'P': 8, 's': 9, 'v': 10, \"'\": 11, 'I': 12, ' ': 13, '.': 14, 'y': 15, 'f': 16, 'u': 17, 'O': 18, 'r': 19, 'd': 20, 'H': 21, 'w': 22, 'h': 23, 'K': 24, '3': 25, 'L': 26, 'm': 27, 'R': 28, 'W': 29, 'j': 30, 'E': 31, 'M': 32, 'V': 33, 'q': 34, 'c': 35, 'o': 36, ':': 37, 'n': 38, ';': 39, 'e': 40, 'i': 41, '$': 42, 'D': 43, 'A': 44, 'J': 45, 'a': 46, 'p': 47, ',': 48, '-': 49, 'U': 50, '?': 51, 'Z': 52, 'X': 53, '!': 54, '&': 55, 'g': 56, 'T': 57, 'C': 58, 'S': 59, 'b': 60, '\\n': 61, 'B': 62, 'k': 63, 'Q': 64}\n",
            "Index to character:, {0: 'x', 1: 'F', 2: 'Y', 3: 'G', 4: 't', 5: 'z', 6: 'l', 7: 'N', 8: 'P', 9: 's', 10: 'v', 11: \"'\", 12: 'I', 13: ' ', 14: '.', 15: 'y', 16: 'f', 17: 'u', 18: 'O', 19: 'r', 20: 'd', 21: 'H', 22: 'w', 23: 'h', 24: 'K', 25: '3', 26: 'L', 27: 'm', 28: 'R', 29: 'W', 30: 'j', 31: 'E', 32: 'M', 33: 'V', 34: 'q', 35: 'c', 36: 'o', 37: ':', 38: 'n', 39: ';', 40: 'e', 41: 'i', 42: '$', 43: 'D', 44: 'A', 45: 'J', 46: 'a', 47: 'p', 48: ',', 49: '-', 50: 'U', 51: '?', 52: 'Z', 53: 'X', 54: '!', 55: '&', 56: 'g', 57: 'T', 58: 'C', 59: 'S', 60: 'b', 61: '\\n', 62: 'B', 63: 'k', 64: 'Q'}\n",
            "Tokenization of `Hello World!`: [21, 40, 6, 6, 36, 13, 29, 36, 19, 6, 20, 54]\n",
            "Decoding : Hello World!\n"
          ]
        }
      ],
      "source": [
        "tokens = set(list(text))\n",
        "tokens\n",
        "\n",
        "#convert different characters into numerical representation\n",
        "char_to_token = {char:idx for idx,char in enumerate(tokens)}\n",
        "token_to_char = {idx:char for char,idx in char_to_token.items()}\n",
        "encode = lambda x: [char_to_token[char] for char in x]\n",
        "decode = lambda idxs: ''.join([token_to_char[idx] for idx in idxs])\n",
        "print('Character to index:',char_to_token)\n",
        "print('Index to character:,',token_to_char)\n",
        "print('Tokenization of `Hello World!`:',encode('Hello World!'))\n",
        "print('Decoding :', decode(encode('Hello World!')))"
      ]
    },
    {
      "cell_type": "code",
      "execution_count": null,
      "metadata": {
        "colab": {
          "base_uri": "https://localhost:8080/"
        },
        "id": "3JebNtY5ywla",
        "outputId": "c936fa62-22ed-4b4c-b7cb-24f2377fc765"
      },
      "outputs": [
        {
          "name": "stdout",
          "output_type": "stream",
          "text": [
            "Encoded Text shape: torch.Size([1115394]) Encoded Text Dtype: torch.int64\n"
          ]
        },
        {
          "data": {
            "text/plain": [
              "tensor([ 1, 41, 19,  ..., 56, 14, 61])"
            ]
          },
          "execution_count": 62,
          "metadata": {},
          "output_type": "execute_result"
        }
      ],
      "source": [
        "#the next step will be tokenization of the entire dataset\n",
        "import torch\n",
        "encoded_text = torch.tensor(encode(text))\n",
        "print('Encoded Text shape:',encoded_text.shape, 'Encoded Text Dtype:', encoded_text.dtype)\n",
        "encoded_text"
      ]
    },
    {
      "cell_type": "code",
      "execution_count": null,
      "metadata": {
        "colab": {
          "base_uri": "https://localhost:8080/"
        },
        "id": "s7hV37fHzxfK",
        "outputId": "34f1349f-17bb-4da7-db94-32a0b0f8e321"
      },
      "outputs": [
        {
          "name": "stdout",
          "output_type": "stream",
          "text": [
            "Train data length: 1003854 Valid data length: 111540\n"
          ]
        }
      ],
      "source": [
        "#now we need to split our database into train and test set using standard 90/10 ratio\n",
        "train_test_split = 0.9\n",
        "train_data = encoded_text[:int(train_test_split*len(encoded_text))]\n",
        "valid_data = encoded_text[int(train_test_split*len(encoded_text)):]\n",
        "print('Train data length:',len(train_data),'Valid data length:',len(valid_data))"
      ]
    },
    {
      "cell_type": "markdown",
      "metadata": {
        "id": "ZTQIJtA61CEC"
      },
      "source": [
        "Now we have to deal with the length of the context: if I understand correctly, the length of the context is the maximum length of the sequence that one time will be given to learning, it is also a frequently given parameter for various LLMs indicating how long queries can be directed to such models so that they do not lose the context. For example context lenght of ChatGPT 3.5 is 4,096 where context lenght of ChatGPT 4.0 exceed 32 thousands."
      ]
    },
    {
      "cell_type": "markdown",
      "metadata": {
        "id": "-GAIMnTLLTKE"
      },
      "source": [
        "## Data Loader (use of T4 or other GPU is strongly recommended from this point)"
      ]
    },
    {
      "cell_type": "markdown",
      "metadata": {
        "id": "s6eAJAdMwqaJ"
      },
      "source": [
        "### Hyperparameter board"
      ]
    },
    {
      "cell_type": "code",
      "execution_count": null,
      "metadata": {
        "id": "SOKYSDDESSuL"
      },
      "outputs": [],
      "source": [
        "import torch\n",
        "import torch.nn as nn\n",
        "from torch.nn import functional as F\n",
        "import time\n",
        "\n",
        "BATCH_SIZE = 4 #number of token chunks per batch\n",
        "CONTEXT_LEN = 8 #length of the token chunks\n",
        "LEARNING_RATE = 1e-2\n",
        "MAX_ITERS = 2000 #number of training iterations or steps\n",
        "EVAL_INTERVAL = 300 #number of steps between evaluating the validation set to see how our validation loss is doing.\n",
        "EVAL_ITERS = 250 #number of steps to do on the validation set per each interval. We do more than 1 to get a more accurate overall valid loss\n",
        "DEVICE = 'cuda' if torch.cuda.is_available() else 'cpu'\n",
        "EMBEDDING_DIM = 32 #the vector size of the token embeddings\n",
        "VOCAB_SIZE = len(tokens) #self-explanatory\n",
        "TORCH_SEED = 42 #to preserve simillar results\n",
        "BLOCK_SIZE = 4 #we'll talk about it later\n",
        "NUM_HEADS = 4 #we'll talk about it later\n",
        "HEAD_SIZE = int(EMBEDDING_DIM/NUM_HEADS) #we'll talk about it later\n",
        "N_LAYER = 6 #we'll talk about it later\n",
        "DROPOUT = 0.2\n"
      ]
    },
    {
      "cell_type": "code",
      "execution_count": null,
      "metadata": {
        "colab": {
          "base_uri": "https://localhost:8080/"
        },
        "id": "RxIZpzkV1i_w",
        "outputId": "1bade9b0-9dd2-4a4c-f756-4f75e52482b4"
      },
      "outputs": [
        {
          "name": "stdout",
          "output_type": "stream",
          "text": [
            "inputs:\n",
            "shape: torch.Size([4, 8])\n",
            "tensor([[13, 17,  9, 40, 13, 20, 40,  6],\n",
            "        [40, 19, 39, 13,  9, 23, 40, 13],\n",
            "        [41,  9, 13,  4, 23, 40, 13,  6],\n",
            "        [61, 58, 36, 17,  6, 20, 13, 38]], device='cuda:0')\n",
            "targets:\n",
            "shape: torch.Size([4, 8])\n",
            "tensor([[17,  9, 40, 13, 20, 40,  6, 46],\n",
            "        [19, 39, 13,  9, 23, 40, 13, 41],\n",
            "        [ 9, 13,  4, 23, 40, 13,  6, 41],\n",
            "        [58, 36, 17,  6, 20, 13, 38, 36]], device='cuda:0') \n",
            "-----------------------------------------------\n",
            "Given input context ([13]) the target is: 17\n",
            "Given input context ([13, 17]) the target is: 9\n",
            "Given input context ([13, 17, 9]) the target is: 40\n",
            "Given input context ([13, 17, 9, 40]) the target is: 13\n",
            "Given input context ([13, 17, 9, 40, 13]) the target is: 20\n",
            "Given input context ([13, 17, 9, 40, 13, 20]) the target is: 40\n",
            "Given input context ([13, 17, 9, 40, 13, 20, 40]) the target is: 6\n",
            "Given input context ([13, 17, 9, 40, 13, 20, 40, 6]) the target is: 46\n",
            "Given input context ([40]) the target is: 19\n",
            "Given input context ([40, 19]) the target is: 39\n",
            "Given input context ([40, 19, 39]) the target is: 13\n",
            "Given input context ([40, 19, 39, 13]) the target is: 9\n",
            "Given input context ([40, 19, 39, 13, 9]) the target is: 23\n",
            "Given input context ([40, 19, 39, 13, 9, 23]) the target is: 40\n",
            "Given input context ([40, 19, 39, 13, 9, 23, 40]) the target is: 13\n",
            "Given input context ([40, 19, 39, 13, 9, 23, 40, 13]) the target is: 41\n",
            "Given input context ([41]) the target is: 9\n",
            "Given input context ([41, 9]) the target is: 13\n",
            "Given input context ([41, 9, 13]) the target is: 4\n",
            "Given input context ([41, 9, 13, 4]) the target is: 23\n",
            "Given input context ([41, 9, 13, 4, 23]) the target is: 40\n",
            "Given input context ([41, 9, 13, 4, 23, 40]) the target is: 13\n",
            "Given input context ([41, 9, 13, 4, 23, 40, 13]) the target is: 6\n",
            "Given input context ([41, 9, 13, 4, 23, 40, 13, 6]) the target is: 41\n",
            "Given input context ([61]) the target is: 58\n",
            "Given input context ([61, 58]) the target is: 36\n",
            "Given input context ([61, 58, 36]) the target is: 17\n",
            "Given input context ([61, 58, 36, 17]) the target is: 6\n",
            "Given input context ([61, 58, 36, 17, 6]) the target is: 20\n",
            "Given input context ([61, 58, 36, 17, 6, 20]) the target is: 13\n",
            "Given input context ([61, 58, 36, 17, 6, 20, 13]) the target is: 38\n",
            "Given input context ([61, 58, 36, 17, 6, 20, 13, 38]) the target is: 36\n"
          ]
        }
      ],
      "source": [
        "#function that generates a batch of data from the entire dataset\n",
        "def get_batch(split:str, batch_size:int=BATCH_SIZE, context_length:int=CONTEXT_LEN):\n",
        "    #determining whether to sample data from training or validation data\n",
        "    data = train_data if split == 'train' else valid_data\n",
        "\n",
        "    #index draw, its maximum value should still allow to generate a full batch (hence we subtract the length of the context)\n",
        "    idxs = torch.randint(low=0, high=len(data)-CONTEXT_LEN, size=(BATCH_SIZE,))\n",
        "    x = torch.stack([data[idx:idx+CONTEXT_LEN] for idx in idxs])\n",
        "    y = torch.stack([data[idx+1:idx+CONTEXT_LEN+1] for idx in idxs])\n",
        "    x,y = x.to(DEVICE), y.to(DEVICE) #send data to the GPU if available\n",
        "    return x,y\n",
        "\n",
        "#function to estimate loss based on the average value of the loss function for the training and validation set\n",
        "@torch.no_grad()\n",
        "def estimate_loss():\n",
        "    out = {}\n",
        "    #turn on evaluation mode\n",
        "    model.eval()\n",
        "    for split in ['train','valid']:\n",
        "        losses = torch.zeros(EVAL_ITERS)\n",
        "        for k in range(EVAL_ITERS):\n",
        "            x_batch, y_batch = get_batch(split)\n",
        "            logits, loss = model(x_batch, y_batch)\n",
        "            losses[k] = loss.item()\n",
        "        out[split] = losses.mean()\n",
        "    #turn back to training mode\n",
        "    model.train()\n",
        "    return out\n",
        "\n",
        "#example to show how tokenisation works\n",
        "xb, yb = get_batch('train')\n",
        "print('inputs:')\n",
        "print('shape:',xb.shape)\n",
        "print(xb)\n",
        "print('targets:')\n",
        "print('shape:',yb.shape)\n",
        "print(yb,'\\n-----------------------------------------------')\n",
        "for batch_idx in range(BATCH_SIZE):\n",
        "    for sequence_idx in range(CONTEXT_LEN):\n",
        "        context = xb[batch_idx,:sequence_idx+1]\n",
        "        target = yb[batch_idx,sequence_idx]\n",
        "        print(f\"Given input context ({context.tolist()}) the target is: {target}\")\n",
        "\n"
      ]
    },
    {
      "cell_type": "markdown",
      "metadata": {
        "id": "9QB4zpENktMz"
      },
      "source": [
        "Here we see a very important methodology: we will train our model on a context of length *n*, which means that we will give it information of length *1*... *N*. And each time we will give the expected result: which is, the token occurring after the given sequence in the original dataset."
      ]
    },
    {
      "cell_type": "markdown",
      "metadata": {
        "id": "20tgRwizlP-D"
      },
      "source": [
        "## Bigram Model"
      ]
    },
    {
      "cell_type": "markdown",
      "metadata": {
        "id": "Y4Nzu65cSrH8"
      },
      "source": [
        "Before we start creating a more complex architecture like a transformer, I would first like to see how a very simple model handles the task. Let's build Bigram Model"
      ]
    },
    {
      "cell_type": "code",
      "execution_count": null,
      "metadata": {
        "colab": {
          "base_uri": "https://localhost:8080/"
        },
        "id": "IwwNZNxdNsXZ",
        "outputId": "d98586ae-db5a-4c7c-cc20-43ab37510e29"
      },
      "outputs": [
        {
          "name": "stdout",
          "output_type": "stream",
          "text": [
            "Loss: tensor(4.4107, device='cuda:0', grad_fn=<NllLossBackward0>)\n",
            "Generated Token:\n",
            "xwxsSFv:sjwCeQfRzqOM\n",
            "RrCzS:sVc$ojsKZ&MyVlo!CBir:lSma,nRH?ouRN3 ENBh!r!m\n",
            "pTye3H'HMsTf&gJnR!Ce TCRwPcrH\n"
          ]
        }
      ],
      "source": [
        "#it will based on what is the probability that a given token will be followed by another token\n",
        "\n",
        "torch.manual_seed(TORCH_SEED)\n",
        "class BigramLanguageModel(nn.Module):\n",
        "    def __init__(self, vocab_size):\n",
        "        super().__init__()\n",
        "        self.vocab_size = VOCAB_SIZE\n",
        "        #each token reads off the logits from the subsequent token from the lookup table\n",
        "        #instead of representation of every token as exact one discrete number we use embedding which transforms the representation of each token into a vector of the specified length (in our case vocab_size)\n",
        "        self.token_embedding_table = nn.Embedding(num_embeddings=self.vocab_size, embedding_dim=self.vocab_size)\n",
        "\n",
        "    def forward(self, idx, targets=None):\n",
        "\n",
        "        #B is number of batches\n",
        "        #T is time or in more strict words is the number of tokens in batch\n",
        "        #C is channel or in more strict words is the lenght of vectors that's represents each token\n",
        "        #both idx and targets are (B,T) Batch x Time array of integers\n",
        "\n",
        "        logits = self.token_embedding_table(idx) #(B,T,C)\n",
        "        if targets is not None:\n",
        "            B,T,C = logits.shape\n",
        "\n",
        "            #we have to rearrange the dimensionality of logits due to formal requirements of cross entropy in pytorch\n",
        "            logits_reshaped = logits.view(B*T,C)\n",
        "            targets_reshaped = targets.view(B*T)\n",
        "            loss = F.cross_entropy(input=logits_reshaped, target=targets_reshaped)\n",
        "        else:\n",
        "            loss=None\n",
        "        return logits, loss\n",
        "\n",
        "    #function that generates a sequence of given lenght\n",
        "    def generate(self, idx, max_new_tokens):\n",
        "        #idx is (B,T) array of indicies in the current context\n",
        "        for _ in range(max_new_tokens):\n",
        "            #get predictions - calling `forward`\n",
        "            logits, loss = self(idx)\n",
        "            #get the last time step from logits where the dimensions of the logits are (B,T,C)\n",
        "            logits_last_timestep = logits[:,-1,:] #becomes (B,C)\n",
        "            #apply softmax to get probabilities\n",
        "            probs = F.softmax(input=logits_last_timestep, dim=-1) #(B,C)\n",
        "            #sample from the probs distribution.\n",
        "            idx_next = torch.multinomial(input=probs, num_samples=1) #(B,1) Returns (B,idxs) where idxs are random integer indicies.\n",
        "            #append the sampled indexes idx_next to idx\n",
        "            idx = torch.cat((idx, idx_next), dim=1) #(B, T+1)\n",
        "        return idx\n",
        "\n",
        "model = BigramLanguageModel(vocab_size=VOCAB_SIZE)\n",
        "model = model.to(DEVICE)\n",
        "logits, loss = model(xb.to(DEVICE),yb.to(DEVICE))\n",
        "print('Loss:',loss)\n",
        "idx=torch.zeros((1,1), dtype=torch.long).to(DEVICE)\n",
        "print('Generated Token:')\n",
        "print(decode(model.generate(idx,max_new_tokens=100)[0].tolist()))"
      ]
    },
    {
      "cell_type": "markdown",
      "metadata": {
        "id": "M1q1mV1pPa-d"
      },
      "source": [
        "The output of this is totally garbage because the model is not trained.  Next we'll get set up to train the model."
      ]
    },
    {
      "cell_type": "code",
      "execution_count": null,
      "metadata": {
        "colab": {
          "base_uri": "https://localhost:8080/"
        },
        "id": "4_BoiJuMPs0G",
        "outputId": "e3cd8603-1aa4-46c9-f033-c172292d3339"
      },
      "outputs": [
        {
          "name": "stdout",
          "output_type": "stream",
          "text": [
            "Loss: 4.494 Loss: 2.568 Loss: 2.359 Loss: 2.446 Loss: 2.556 Loss: 2.49 Loss: 2.429 Loss: 2.421 Loss: 2.487 Loss: 2.447 \n",
            "xine sple d be towitore ilu spr, ak etarat s he d tolen,\n",
            "ORDUCoule?\n",
            "Was's d y p, alangoulpavestugapis herettig tsllaken, bemis wnd come izerin far anthiverinof.\n",
            "\n",
            "K:\n",
            "NCARORothimand ormy ude, my' boigre; try tr ferthanglle spame s!'sh fan,\n",
            "Wh thath at hind thyend se mew'shatth ces.\n",
            "Drees ghe,\n",
            "I cen tho\n"
          ]
        }
      ],
      "source": [
        "#some basic training using AdamW optimizer and 10000 steps\n",
        "optimizer = torch.optim.AdamW(params=model.parameters(), lr=LEARNING_RATE)\n",
        "\n",
        "BATCH_SIZE = 32\n",
        "CONTEXT_LEN = 8\n",
        "\n",
        "for steps in range(10000):\n",
        "    #sample a batch of data\n",
        "    xb, yb = get_batch('train')\n",
        "\n",
        "    #evaluate the loss\n",
        "    logits, loss = model(xb, yb)\n",
        "    optimizer.zero_grad()\n",
        "    loss.backward()\n",
        "    optimizer.step()\n",
        "    if steps%1000 == 0: print('Loss:',round(loss.item(),3), end=' ')\n",
        "\n",
        "#creating output\n",
        "context = torch.zeros((1,1), dtype=torch.long, device=DEVICE) #this is an initial token for generating a sequence by out model, token 0 is /n in our case\n",
        "print()\n",
        "print(decode(model.generate(context,max_new_tokens=300)[0].tolist())) #generating answer by model"
      ]
    },
    {
      "cell_type": "markdown",
      "metadata": {
        "id": "aymQWNLpTuh8"
      },
      "source": [
        "Loss value decreased from 4.5 to ~2.4 and as we can see,  the results are not thrilling, but training gives visible results"
      ]
    },
    {
      "cell_type": "markdown",
      "metadata": {
        "id": "7aEu5S7LSCTu"
      },
      "source": [
        "## Preparing for Building Transformer"
      ]
    },
    {
      "cell_type": "markdown",
      "metadata": {
        "id": "p3hmT3F0UGH0"
      },
      "source": [
        "The bigram model is a veeeery simple model that actually predicts the next token based solely on the last preceding token. This is the moment when the transformer enters the game. But before that, we need to understand a certain thing that will drastically reduce the training time of the transformer"
      ]
    },
    {
      "cell_type": "markdown",
      "metadata": {
        "id": "axcwR8wXUmYF"
      },
      "source": [
        "### A Brief History of Matrix Multiplication"
      ]
    },
    {
      "cell_type": "markdown",
      "metadata": {
        "id": "apibJE2IUpiV"
      },
      "source": [
        "Because of the parallelization of calculations when performing them on arrays, matrix multiplication is a much more preferred way of conducting operations than by simply nesting a for loop. However, this is not a trivial task.\n",
        "\n",
        "The main idea of the attention mechanism, which made the transformer essentially a breakthrough architecture, is the principle that \"token can not predict the future\" which means that token *n*, can only \"look\" at tokens *1 ... n*, but cannot \"know\" what are the values of tokens *n+1 ... N*\n",
        "\n",
        "This is not the only way to use a transformer, and for architectures that are not aimed at predicting the next word in a sequence, such attention mechanisms can be used that are not \"lower triangle matrix\" but that is another story\n",
        "\n",
        "Let's look at an example on a random matrix"
      ]
    },
    {
      "cell_type": "code",
      "execution_count": null,
      "metadata": {
        "colab": {
          "base_uri": "https://localhost:8080/"
        },
        "id": "uwWHaF8TVnZL",
        "outputId": "784ac416-2fcc-4127-d954-f038950beade"
      },
      "outputs": [
        {
          "data": {
            "text/plain": [
              "torch.Size([4, 6, 1])"
            ]
          },
          "execution_count": 68,
          "metadata": {},
          "output_type": "execute_result"
        }
      ],
      "source": [
        "B,T,C = 4,6,1\n",
        "x = torch.randn((B,T,C))\n",
        "x.shape"
      ]
    },
    {
      "cell_type": "code",
      "execution_count": null,
      "metadata": {
        "id": "Qy4xzChFVyqZ"
      },
      "outputs": [],
      "source": [
        "x_bag_of_words = torch.zeros((B,T,C))\n",
        "\n",
        "for batch_idx in range(B):\n",
        "    for token_idx in range(T):\n",
        "        x_previous = x[batch_idx,:token_idx+1] # (T,C)\n",
        "        x_bag_of_words[batch_idx,token_idx] = torch.mean(x_previous, dim=0)\n"
      ]
    },
    {
      "cell_type": "code",
      "execution_count": null,
      "metadata": {
        "colab": {
          "base_uri": "https://localhost:8080/"
        },
        "id": "-SKEETFfWFQI",
        "outputId": "e6149fd0-f304-43c5-fc1d-9212209aa2fc"
      },
      "outputs": [
        {
          "data": {
            "text/plain": [
              "(tensor([[ 0.2090],\n",
              "         [-0.2196],\n",
              "         [ 0.2391],\n",
              "         [-0.6102],\n",
              "         [-0.0205],\n",
              "         [-0.2582]]),\n",
              " tensor([[ 0.2090],\n",
              "         [-0.0053],\n",
              "         [ 0.0762],\n",
              "         [-0.0954],\n",
              "         [-0.0804],\n",
              "         [-0.1100]]))"
            ]
          },
          "execution_count": 70,
          "metadata": {},
          "output_type": "execute_result"
        }
      ],
      "source": [
        "x[0],x_bag_of_words[0]"
      ]
    },
    {
      "cell_type": "markdown",
      "metadata": {
        "id": "eg7TyDklU8Jm"
      },
      "source": [
        "As we can see, the first element of *x_bag_of_words* are the same as the first element of *x*, however second element of *x_bag_of_words* is the average of first and second element of *x*, third element of *x_bag_of_words* is the sum of first, second and third element of *x* and so on.. this is what we want to get to proceed the attention mechanism. However there are much better way to do this calculation using some trick"
      ]
    },
    {
      "cell_type": "code",
      "execution_count": null,
      "metadata": {
        "colab": {
          "base_uri": "https://localhost:8080/"
        },
        "id": "NZksM5IsWy7R",
        "outputId": "dc1713a8-c9a3-4c7d-bad3-1d9d9f067e51"
      },
      "outputs": [
        {
          "data": {
            "text/plain": [
              "tensor([[1., 0., 0.],\n",
              "        [1., 1., 0.],\n",
              "        [1., 1., 1.]])"
            ]
          },
          "execution_count": 71,
          "metadata": {},
          "output_type": "execute_result"
        }
      ],
      "source": [
        "#we can create special downtriangular matrix\n",
        "torch.tril(torch.ones(3,3))"
      ]
    },
    {
      "cell_type": "code",
      "execution_count": null,
      "metadata": {
        "id": "tEVJSRRsW_Dy"
      },
      "outputs": [],
      "source": [
        "#and when we use this matrix to our purpose\n",
        "\n",
        "mask = torch.tril(torch.ones((1,T,T),dtype=torch.float))\n",
        "mask = mask / mask.sum(dim=2,keepdim=True)\n",
        "a = mask\n",
        "b = x\n",
        "c = a @ b\n"
      ]
    },
    {
      "cell_type": "code",
      "execution_count": null,
      "metadata": {
        "colab": {
          "base_uri": "https://localhost:8080/"
        },
        "id": "hViQFX2JXv_l",
        "outputId": "062e2136-11e3-4cdd-bf1b-764bfaf30cd8"
      },
      "outputs": [
        {
          "name": "stdout",
          "output_type": "stream",
          "text": [
            "True\n"
          ]
        },
        {
          "data": {
            "text/plain": [
              "(tensor([[ 0.2090],\n",
              "         [-0.0053],\n",
              "         [ 0.0762],\n",
              "         [-0.0954],\n",
              "         [-0.0804],\n",
              "         [-0.1100]]),\n",
              " tensor([[ 0.2090],\n",
              "         [-0.0053],\n",
              "         [ 0.0762],\n",
              "         [-0.0954],\n",
              "         [-0.0804],\n",
              "         [-0.1100]]))"
            ]
          },
          "execution_count": 73,
          "metadata": {},
          "output_type": "execute_result"
        }
      ],
      "source": [
        "print(torch.allclose(x_bag_of_words, c))\n",
        "c[0], x_bag_of_words[0]"
      ]
    },
    {
      "cell_type": "markdown",
      "metadata": {
        "id": "-Moa8jTqbbfa"
      },
      "source": [
        "We have to go even further, and we need to use softmax to operate with this matrix"
      ]
    },
    {
      "cell_type": "code",
      "execution_count": null,
      "metadata": {
        "colab": {
          "base_uri": "https://localhost:8080/"
        },
        "id": "jaeyO0RsbjoV",
        "outputId": "f455d795-b17a-423c-e06c-906128a8622e"
      },
      "outputs": [
        {
          "data": {
            "text/plain": [
              "tensor([[[0., -inf, -inf, -inf, -inf, -inf],\n",
              "         [0., 0., -inf, -inf, -inf, -inf],\n",
              "         [0., 0., 0., -inf, -inf, -inf],\n",
              "         [0., 0., 0., 0., -inf, -inf],\n",
              "         [0., 0., 0., 0., 0., -inf],\n",
              "         [0., 0., 0., 0., 0., 0.]]])"
            ]
          },
          "execution_count": 74,
          "metadata": {},
          "output_type": "execute_result"
        }
      ],
      "source": [
        "mask2 = torch.zeros_like(mask).masked_fill(mask==0,float('-inf'))\n",
        "mask2"
      ]
    },
    {
      "cell_type": "code",
      "execution_count": null,
      "metadata": {
        "colab": {
          "base_uri": "https://localhost:8080/"
        },
        "id": "P9FivhwDbmMY",
        "outputId": "fdf18a4f-85e4-44f5-9a72-406c8324c3d6"
      },
      "outputs": [
        {
          "data": {
            "text/plain": [
              "tensor([[[1.0000, 0.0000, 0.0000, 0.0000, 0.0000, 0.0000],\n",
              "         [0.5000, 0.5000, 0.0000, 0.0000, 0.0000, 0.0000],\n",
              "         [0.3333, 0.3333, 0.3333, 0.0000, 0.0000, 0.0000],\n",
              "         [0.2500, 0.2500, 0.2500, 0.2500, 0.0000, 0.0000],\n",
              "         [0.2000, 0.2000, 0.2000, 0.2000, 0.2000, 0.0000],\n",
              "         [0.1667, 0.1667, 0.1667, 0.1667, 0.1667, 0.1667]]])"
            ]
          },
          "execution_count": 75,
          "metadata": {},
          "output_type": "execute_result"
        }
      ],
      "source": [
        "mask2 =  F.softmax(mask2,dim=2)\n",
        "mask2"
      ]
    },
    {
      "cell_type": "markdown",
      "metadata": {
        "id": "JAOIqerFbsu9"
      },
      "source": [
        "Basically, mask2 and mask are exactly the same"
      ]
    },
    {
      "cell_type": "code",
      "execution_count": null,
      "metadata": {
        "colab": {
          "base_uri": "https://localhost:8080/"
        },
        "id": "QEkipa3Xb1rC",
        "outputId": "914e68b2-be2a-4a87-8acd-cb16da6354cf"
      },
      "outputs": [
        {
          "data": {
            "text/plain": [
              "True"
            ]
          },
          "execution_count": 76,
          "metadata": {},
          "output_type": "execute_result"
        }
      ],
      "source": [
        "torch.allclose(mask,mask2)"
      ]
    },
    {
      "cell_type": "markdown",
      "metadata": {
        "id": "Mu1quq7MbyMX"
      },
      "source": [
        "So what is the difference? Very nuanced. The trick is to use -inf instead of zeros: this makes us **mask** tokens \"from the future\", and also thanks to using softmax we are able to moderate weights of tokens in different context (I'll talk about it later). Ok, we just showed that by multiplying matrices you can achieve exactly the same effect as the previous loop in a loop. What kind of time savings does this entail?"
      ]
    },
    {
      "cell_type": "code",
      "execution_count": null,
      "metadata": {
        "id": "Y-w0AKNfZV8q"
      },
      "outputs": [],
      "source": [
        "B,T,C = 256, 512, 64 #let's increase the size of our matrix\n",
        "x = torch.randn((B,T,C))\n",
        "x.shape\n",
        "x_bag_of_words = torch.zeros((B,T,C))"
      ]
    },
    {
      "cell_type": "code",
      "execution_count": null,
      "metadata": {
        "colab": {
          "base_uri": "https://localhost:8080/"
        },
        "id": "jGoSGct5Z78O",
        "outputId": "8c58575c-b5e2-4fc5-c659-9ab20df40796"
      },
      "outputs": [
        {
          "name": "stdout",
          "output_type": "stream",
          "text": [
            "3.8 s ± 368 ms per loop (mean ± std. dev. of 2 runs, 2 loops each)\n"
          ]
        }
      ],
      "source": [
        "%%timeit -n 2 -r 2\n",
        "for batch_idx in range(B):\n",
        "    for token_idx in range(T):\n",
        "        x_previous = x[batch_idx,:token_idx+1] # (T,C)\n",
        "        x_bag_of_words[batch_idx,token_idx] = torch.mean(x_previous, dim=0)"
      ]
    },
    {
      "cell_type": "code",
      "execution_count": null,
      "metadata": {
        "id": "9ii_-RDsaHcX"
      },
      "outputs": [],
      "source": [
        "mask = torch.tril(torch.ones((1,T,T),dtype=torch.float))\n",
        "mask = mask / mask.sum(dim=2,keepdim=True)\n",
        "mask2 = torch.zeros_like(mask).masked_fill(mask==0,float('-inf'))\n",
        "mask2 =  F.softmax(mask2,dim=2)\n",
        "\n",
        "a = mask2\n",
        "b = x"
      ]
    },
    {
      "cell_type": "code",
      "execution_count": null,
      "metadata": {
        "colab": {
          "base_uri": "https://localhost:8080/"
        },
        "id": "eefVyoMWaJHL",
        "outputId": "641d7e2e-5fa5-47ed-8e43-af2a32943f5d"
      },
      "outputs": [
        {
          "name": "stdout",
          "output_type": "stream",
          "text": [
            "214 ms ± 934 µs per loop (mean ± std. dev. of 2 runs, 2 loops each)\n"
          ]
        }
      ],
      "source": [
        "%%timeit -n 2 -r 2\n",
        "c = a @ b"
      ]
    },
    {
      "cell_type": "markdown",
      "metadata": {
        "id": "eFFRblrTaOfi"
      },
      "source": [
        "Extreme time savings with one (almost) simple change!"
      ]
    },
    {
      "cell_type": "markdown",
      "metadata": {
        "id": "v9-RqvUUc2yo"
      },
      "source": [
        "## Building Transformer"
      ]
    },
    {
      "cell_type": "markdown",
      "metadata": {
        "id": "U5LUZBpkhytN"
      },
      "source": [
        "### Step 1: Transformer without Self Attention Module"
      ]
    },
    {
      "cell_type": "markdown",
      "metadata": {
        "id": "8UujH8q3nnqI"
      },
      "source": [
        "The first step in building a transformer will be to rebuild the architecture into one that is more suited to our needs. The differences between the *BigramLanguageModel* class and the *TransformerLanguageModel* class are just a little tidying up of global variables (we don't have to define, for example, *vocab_size* when it is a global variable) and the addition of an intermediate step in the creation of logits. Now we create a table with dimensions (*vocab_size x embedding_dim* instead of *vocab_size x vocab_size*) which requires an additional conversion step for this table (*language_model_head_linear_layer*) and then use this linear layer to create logits. If I understand correctly, this step will allow one dimension of the embedding table to become independent of apriori imposed model properties and then become another hyperparameter that can be optimized"
      ]
    },
    {
      "cell_type": "code",
      "execution_count": null,
      "metadata": {
        "colab": {
          "base_uri": "https://localhost:8080/"
        },
        "id": "wKAHbIhQfl0I",
        "outputId": "9d71cd76-fbeb-4e64-a303-32f62102f1b9"
      },
      "outputs": [
        {
          "name": "stdout",
          "output_type": "stream",
          "text": [
            "Step: 0 Training Loss: tensor(4.4255) Validation Loss: tensor(4.4403)\n",
            "Step: 250 Training Loss: tensor(2.5484) Validation Loss: tensor(2.5647)\n",
            "Step: 500 Training Loss: tensor(2.5296) Validation Loss: tensor(2.5373)\n",
            "Step: 750 Training Loss: tensor(2.5012) Validation Loss: tensor(2.5251)\n",
            "Step: 1000 Training Loss: tensor(2.5074) Validation Loss: tensor(2.5326)\n",
            "Step: 1250 Training Loss: tensor(2.5010) Validation Loss: tensor(2.5174)\n",
            "Step: 1500 Training Loss: tensor(2.4944) Validation Loss: tensor(2.5247)\n",
            "Step: 1750 Training Loss: tensor(2.4896) Validation Loss: tensor(2.5171)\n",
            "Step: 1999 Training Loss: tensor(2.4888) Validation Loss: tensor(2.5069)\n",
            "\n",
            "x\n",
            "This?\n",
            "ARDorabr K: lver, nf as; IMy, isi O: fo IINAnd co geldis al thiarcke. they eerowon rurnd, hariso I'l t tho LA ueie, t as HAy wam bifldek angee, my,\n",
            "PERE:\n",
            "Wiund VO:\n",
            "Then wngs anghandet thend y i\n"
          ]
        }
      ],
      "source": [
        "class TransformerLanguageModel(nn.Module):\n",
        "    def __init__(self):\n",
        "        super().__init__()\n",
        "        self.token_embedding_table = nn.Embedding(num_embeddings=VOCAB_SIZE, embedding_dim=EMBEDDING_DIM)\n",
        "        self.position_embedding_table = nn.Embedding(CONTEXT_LEN, EMBEDDING_DIM) #NEW\n",
        "        self.language_model_head_linear_layer = nn.Linear(EMBEDDING_DIM, VOCAB_SIZE) #NEW\n",
        "\n",
        "    def forward(self, idx, targets=None):\n",
        "\n",
        "        B, T = idx.shape\n",
        "        token_embeddings = self.token_embedding_table(idx) #NEW\n",
        "        pos_embedding = self.position_embedding_table(torch.arange(T, device=DEVICE)) #NEW\n",
        "        x = token_embeddings + pos_embedding #NEW the x does not contain only information about the value of the token, but also about its position which is in line with the assumptions of the transformer architecture\n",
        "        logits = self.language_model_head_linear_layer(x) #UPDATE\n",
        "\n",
        "        if targets is not None:\n",
        "            B,T,C = logits.shape\n",
        "            logits_reshaped = logits.view(B*T,C)\n",
        "            targets_reshaped = targets.view(B*T)\n",
        "            loss = F.cross_entropy(input=logits_reshaped, target=targets_reshaped)\n",
        "        else:\n",
        "            loss=None\n",
        "        return logits, loss\n",
        "\n",
        "    def generate(self, idx, max_new_tokens):\n",
        "        for _ in range(max_new_tokens):\n",
        "            #crop idx to the max size of our positional embeddings table, (the only change from the generate function in the bigram model, with it we can generate a model response of any length)\n",
        "            idx_crop = idx[:,-CONTEXT_LEN:]\n",
        "            logits, loss = self(idx_crop)\n",
        "            logits_last_timestep = logits[:,-1,:]\n",
        "            probs = F.softmax(input=logits_last_timestep, dim=-1)\n",
        "            idx_next = torch.multinomial(input=probs, num_samples=1)\n",
        "            idx = torch.cat((idx, idx_next), dim=1)\n",
        "        return idx\n",
        "\n",
        "#conventional training loop\n",
        "model = TransformerLanguageModel()\n",
        "model = model.to(DEVICE)\n",
        "optimizer = torch.optim.AdamW(params=model.parameters(), lr=LEARNING_RATE)\n",
        "for step in range(MAX_ITERS):\n",
        "\n",
        "    if step % EVAL_ITERS == 0 or step == MAX_ITERS-1:\n",
        "        losses = estimate_loss()\n",
        "        print('Step:',step,'Training Loss:',losses['train'],'Validation Loss:',losses['valid'])\n",
        "\n",
        "    xb,yb = get_batch('train')\n",
        "    logits, loss = model(xb,yb)\n",
        "    optimizer.zero_grad(set_to_none=True)\n",
        "    loss.backward()\n",
        "    optimizer.step()\n",
        "\n",
        "context = torch.zeros((1,1), dtype=torch.long, device=DEVICE)\n",
        "print()\n",
        "print(decode(model.generate(context,max_new_tokens=200)[0].tolist()))"
      ]
    },
    {
      "cell_type": "markdown",
      "metadata": {
        "id": "nPaeJ6Z7ne6h"
      },
      "source": [
        "According to the scheme from original paper, we have built part of Transformer that is on the draw. For now we didn't achieve much improvement comparing to the Bigram architecture."
      ]
    },
    {
      "cell_type": "markdown",
      "metadata": {
        "id": "x_Par6zjgQxq"
      },
      "source": [
        "![image.png](data:image/png;base64,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)"
      ]
    },
    {
      "cell_type": "markdown",
      "metadata": {
        "id": "YfSgOMJtsGYG"
      },
      "source": [
        "### Step 1.1: In the way of understanding self attention mechanism"
      ]
    },
    {
      "cell_type": "markdown",
      "metadata": {
        "id": "gFaT4O5utPtT"
      },
      "source": [
        "Returning to the final step, which we reached when analyzing [matrix multiplication](https://colab.research.google.com/drive/1lPAkgGoHptwUBmmc8Ga0pvuCEo5VNENq?authuser=2#scrollTo=axcwR8wXUmYF&line=1&uniqifier=1)"
      ]
    },
    {
      "cell_type": "code",
      "execution_count": null,
      "metadata": {
        "colab": {
          "base_uri": "https://localhost:8080/"
        },
        "id": "6hQUeSPZs3mH",
        "outputId": "02759cd3-8ef6-4b47-b9b8-91389711de0d"
      },
      "outputs": [
        {
          "data": {
            "text/plain": [
              "tensor([[[1.0000, 0.0000, 0.0000,  ..., 0.0000, 0.0000, 0.0000],\n",
              "         [0.5000, 0.5000, 0.0000,  ..., 0.0000, 0.0000, 0.0000],\n",
              "         [0.3333, 0.3333, 0.3333,  ..., 0.0000, 0.0000, 0.0000],\n",
              "         ...,\n",
              "         [0.0020, 0.0020, 0.0020,  ..., 0.0020, 0.0000, 0.0000],\n",
              "         [0.0020, 0.0020, 0.0020,  ..., 0.0020, 0.0020, 0.0000],\n",
              "         [0.0020, 0.0020, 0.0020,  ..., 0.0020, 0.0020, 0.0020]]])"
            ]
          },
          "execution_count": 82,
          "metadata": {},
          "output_type": "execute_result"
        }
      ],
      "source": [
        "mask"
      ]
    },
    {
      "cell_type": "markdown",
      "metadata": {
        "id": "EudQvzPstUvk"
      },
      "source": [
        "This matrix represents one basic thing: no token in our model predicts the future: only tokens from *1... n* are affected by the *n-th* token, and this is what the mask tensor represents.\n",
        "\n",
        "Note: in situations where such communication of tokens on an each-to-any basis is legitimate as much as possible it can be used, it is not in any way forbidden, restricted or worse, provided that our goal is to create an architecture where tokens communicate on just such a basis\n",
        "\n",
        "\n",
        "But back to the typical transformer architecture: we want to create an attention mechanism based on key, query and value."
      ]
    },
    {
      "cell_type": "code",
      "execution_count": null,
      "metadata": {
        "colab": {
          "base_uri": "https://localhost:8080/"
        },
        "id": "qGTPtSnyg3uc",
        "outputId": "d6cd2fd7-73f8-4b87-830a-db8217ecd0b2"
      },
      "outputs": [
        {
          "name": "stdout",
          "output_type": "stream",
          "text": [
            "Batch Size (B): 32 Context Length (T): 8 Embedding Dimension (C): 32\n"
          ]
        },
        {
          "data": {
            "text/plain": [
              "tensor([[ 0.7382,  1.8175,  0.1999,  0.1742,  1.0474, -1.5874, -0.6308,  0.7220],\n",
              "        [ 2.5874, -2.2420, -0.3886, -0.9581, -1.3021,  0.3683, -0.4985, -1.7426],\n",
              "        [-1.6801,  0.0347, -0.0189,  0.6754,  0.6403, -0.3879,  0.7850,  0.2902],\n",
              "        [-1.6953,  1.5849, -0.0159,  0.6896,  1.1454,  0.1632,  0.5064,  1.3902],\n",
              "        [ 0.8106, -1.1090, -0.1804,  0.1267, -0.8548,  0.8957,  0.1704, -0.0104],\n",
              "        [-0.1280,  0.4948, -0.3047,  0.2876,  0.3638, -0.5413,  0.2235,  0.0090],\n",
              "        [ 0.3005, -0.3297, -0.4814, -0.3137, -1.7938,  1.5146,  0.2502, -0.0567],\n",
              "        [ 0.9452,  1.2642,  0.3158, -0.3075,  1.2759, -1.4599, -0.8722,  0.2749]],\n",
              "       grad_fn=<SelectBackward0>)"
            ]
          },
          "execution_count": 83,
          "metadata": {},
          "output_type": "execute_result"
        }
      ],
      "source": [
        "B,T,C = BATCH_SIZE, CONTEXT_LEN, EMBEDDING_DIM\n",
        "x = torch.randn((B,T,C))\n",
        "print('Batch Size (B):',B,'Context Length (T):',T,'Embedding Dimension (C):',C)\n",
        "\n",
        "#learned vector to extract key vector from token embedding vector\n",
        "key_layer = nn.Linear(in_features=C, out_features=HEAD_SIZE, bias=False)\n",
        "\n",
        "#learned vector to extract query vector from token embedding vector\n",
        "query_layer = nn.Linear(in_features=C, out_features=HEAD_SIZE, bias=False)\n",
        "\n",
        "#learned vector to extract value vector from token embedding vector\n",
        "value_layer = nn.Linear(in_features=C, out_features=HEAD_SIZE, bias=False) #NEW\n",
        "\n",
        "#extract query and key values for every token in the batch in parallel\n",
        "key = key_layer(x) # (B,T,head_size)\n",
        "query = query_layer(x) # (B,T,head_size)\n",
        "value = value_layer(x)\n",
        "\n",
        "weights = query @ key.transpose(-2, -1)\n",
        "weights[0]"
      ]
    },
    {
      "cell_type": "markdown",
      "metadata": {
        "id": "z0uYQaWUZXne"
      },
      "source": [
        "From now we need to take a few extra steps to reproduce the idea from the paper"
      ]
    },
    {
      "cell_type": "code",
      "execution_count": null,
      "metadata": {
        "colab": {
          "base_uri": "https://localhost:8080/"
        },
        "id": "FQXgCYQlhRXN",
        "outputId": "22e9eab5-313d-4684-f59b-623ee264b871"
      },
      "outputs": [
        {
          "data": {
            "text/plain": [
              "tensor([[1.0000, 0.0000, 0.0000, 0.0000, 0.0000, 0.0000, 0.0000, 0.0000],\n",
              "        [0.9921, 0.0079, 0.0000, 0.0000, 0.0000, 0.0000, 0.0000, 0.0000],\n",
              "        [0.0846, 0.4700, 0.4454, 0.0000, 0.0000, 0.0000, 0.0000, 0.0000],\n",
              "        [0.0228, 0.6069, 0.1224, 0.2479, 0.0000, 0.0000, 0.0000, 0.0000],\n",
              "        [0.4522, 0.0663, 0.1678, 0.2282, 0.0855, 0.0000, 0.0000, 0.0000],\n",
              "        [0.1331, 0.2481, 0.1115, 0.2017, 0.2176, 0.0880, 0.0000, 0.0000],\n",
              "        [0.1434, 0.0764, 0.0656, 0.0776, 0.0177, 0.4829, 0.1364, 0.0000],\n",
              "        [0.1869, 0.2571, 0.0996, 0.0534, 0.2601, 0.0169, 0.0304, 0.0956]],\n",
              "       grad_fn=<SelectBackward0>)"
            ]
          },
          "execution_count": 84,
          "metadata": {},
          "output_type": "execute_result"
        }
      ],
      "source": [
        "tril = torch.tril(torch.ones(T,T,dtype=torch.long))\n",
        "\n",
        "weights = weights.masked_fill(tril == 0, float('-inf')) #masks future tokens\n",
        "weights = torch.softmax(weights, dim=-1) #provides even distribution (weights that add up to 1)\n",
        "weights[0]"
      ]
    },
    {
      "cell_type": "markdown",
      "metadata": {
        "id": "ZmAC5lBupFxR"
      },
      "source": [
        "We have achieved a very important thing at this point: the values in each row are no longer equal (this is due to the fact that the array of weights contains different values before sofmax). This means that the weight array will be able to adjust during training"
      ]
    },
    {
      "cell_type": "code",
      "execution_count": null,
      "metadata": {
        "colab": {
          "base_uri": "https://localhost:8080/"
        },
        "id": "TMP5-WpehZsz",
        "outputId": "081ea091-3d61-42b5-cf6b-fba549ef1b34"
      },
      "outputs": [
        {
          "data": {
            "text/plain": [
              "torch.Size([32, 8, 8])"
            ]
          },
          "execution_count": 85,
          "metadata": {},
          "output_type": "execute_result"
        }
      ],
      "source": [
        "out = (query @ key.transpose(-2, -1)) @ value * HEAD_SIZE**-0.5 #NEW (B, T, T) @ (B, T, head_size) = (B, T, head_size)\n",
        "out[0]\n",
        "out.shape"
      ]
    },
    {
      "cell_type": "markdown",
      "metadata": {
        "id": "4YyFv9mEZQM7"
      },
      "source": [
        "Basically it is a direct application of formula\n",
        "which we can found in *Attention Is All You Need* paper:\n",
        "\n",
        "$$Attention(key,query,value) = softmax\\Big(\\frac{query*key^T}{sqrt(head\\_size)}*value\\Big)$$"
      ]
    },
    {
      "cell_type": "markdown",
      "metadata": {
        "id": "U7yxsNWdqBbD"
      },
      "source": [
        "We have just built all the logic that we will use to build the attention mechanism."
      ]
    },
    {
      "cell_type": "markdown",
      "metadata": {
        "id": "nq_lpHO53ew4"
      },
      "source": [
        "We can think of these values as follows:\n",
        "\n",
        "query - information about what the token is looking for\n",
        "\n",
        "key - information about what a given token contains\n",
        "\n",
        "x - private information available from the perspective of the token\n",
        "\n",
        "value - information that the token will pass on if, based on the result of dot product of query and key, another token finds the token interesting"
      ]
    },
    {
      "cell_type": "markdown",
      "metadata": {
        "id": "fAub4oTjyrDA"
      },
      "source": [
        "### Step 2: Building Single Head of Self Attention Mechanism"
      ]
    },
    {
      "cell_type": "code",
      "execution_count": null,
      "metadata": {
        "id": "NgHrB_fzx7mz"
      },
      "outputs": [],
      "source": [
        "class Head(nn.Module):\n",
        "    \"\"\" single head of self attention \"\"\"\n",
        "    def __init__(self):\n",
        "        super().__init__()\n",
        "        self.key_layer   = nn.Linear(in_features=EMBEDDING_DIM, out_features=HEAD_SIZE, bias=False)\n",
        "        self.query_layer = nn.Linear(in_features=EMBEDDING_DIM, out_features=HEAD_SIZE, bias=False)\n",
        "        self.value_layer = nn.Linear(in_features=EMBEDDING_DIM, out_features=HEAD_SIZE, bias=False)\n",
        "\n",
        "        self.register_buffer('tril', torch.tril(torch.ones((CONTEXT_LEN, CONTEXT_LEN))))\n",
        "\n",
        "    #basically exactly the same steps as we did in Step 1.1\n",
        "    def forward(self, x):\n",
        "        B,T,C = x.shape\n",
        "        q = self.query_layer(x)\n",
        "        k = self.key_layer(x)\n",
        "        v = self.value_layer(x)\n",
        "\n",
        "        #compute scores based on affinities\n",
        "        weights = (q @ k.transpose(-2,-1)) * HEAD_SIZE**-0.5 # (B,T,C) @ (B,C,T) -> (B,T,T)\n",
        "        weights = weights.masked_fill(self.tril[:T,:T] == 0, float('-inf'))\n",
        "        weights = F.softmax(input=weights, dim=-1)\n",
        "\n",
        "\n",
        "        out = weights @ v # (B,T,T) @ (B,T,C) -> (B,T,C)\n",
        "        return out"
      ]
    },
    {
      "cell_type": "markdown",
      "metadata": {
        "id": "FRg9PbG1yw6h"
      },
      "source": [
        "### Step 3: Transfomer with Single Head Self Attention Module"
      ]
    },
    {
      "cell_type": "markdown",
      "metadata": {
        "id": "OoPy5gaQaBAS"
      },
      "source": [
        "having ready implementation of attention, we can add it to our model"
      ]
    },
    {
      "cell_type": "code",
      "execution_count": null,
      "metadata": {
        "colab": {
          "base_uri": "https://localhost:8080/"
        },
        "id": "HguVpwVDyWHG",
        "outputId": "52200ce3-f04e-433a-f979-597636cd3ad8"
      },
      "outputs": [
        {
          "name": "stdout",
          "output_type": "stream",
          "text": [
            "Step: 0 Training Loss: tensor(4.2024) Validation Loss: tensor(4.2038)\n",
            "Step: 250 Training Loss: tensor(3.1602) Validation Loss: tensor(3.1831)\n",
            "Step: 500 Training Loss: tensor(2.9669) Validation Loss: tensor(2.9597)\n",
            "Step: 750 Training Loss: tensor(2.7839) Validation Loss: tensor(2.7950)\n",
            "Step: 1000 Training Loss: tensor(2.6868) Validation Loss: tensor(2.6759)\n",
            "Step: 1250 Training Loss: tensor(2.6076) Validation Loss: tensor(2.6169)\n",
            "Step: 1500 Training Loss: tensor(2.5630) Validation Loss: tensor(2.5730)\n",
            "Step: 1750 Training Loss: tensor(2.5355) Validation Loss: tensor(2.5379)\n",
            "Step: 1999 Training Loss: tensor(2.5257) Validation Loss: tensor(2.5351)\n",
            "xd to thed, soutilane?\n",
            "\n",
            "I t'an I\n",
            "Be G\n",
            "Pdndes,\n",
            "Cout winor y ble llril kongil co:\n",
            "Ae ig um.\n",
            "\n",
            "O?\n",
            "LA'is outo aue fo agr tond, ghe dteisalr ncic'otror,\n",
            "ONENAINUEI wends\n",
            "To;\n",
            "Ales youprs ther to sorure th tre\n"
          ]
        }
      ],
      "source": [
        "LEARNING_RATE = 1e-3 #decreate the learning rate because self attention cannot tolerate very high learning rates.\n",
        "\n",
        "class TransformerLanguageModel(nn.Module):\n",
        "    def __init__(self):\n",
        "        super().__init__()\n",
        "        self.token_embedding_table = nn.Embedding(num_embeddings=VOCAB_SIZE, embedding_dim=EMBEDDING_DIM)\n",
        "        self.position_embedding_table = nn.Embedding(CONTEXT_LEN, EMBEDDING_DIM)\n",
        "\n",
        "        self.self_attention_head_linear_layer = Head() #NEW, adding a Single-Head Attention\n",
        "        self.language_model_head_linear_layer = nn.Linear(HEAD_SIZE, VOCAB_SIZE) #for now we have to use such dimensions of the linear layer, in the future we'll adjust that\n",
        "\n",
        "    def forward(self, idx, targets=None):\n",
        "\n",
        "        B, T = idx.shape\n",
        "        token_embeddings = self.token_embedding_table(idx)\n",
        "        pos_embedding = self.position_embedding_table(torch.arange(T, device=DEVICE))\n",
        "        x = token_embeddings + pos_embedding\n",
        "        x = self.self_attention_head_linear_layer(x) #apply one head of self attention\n",
        "        logits = self.language_model_head_linear_layer(x)\n",
        "\n",
        "        if targets is not None:\n",
        "            B,T,C = logits.shape\n",
        "            logits_reshaped = logits.view(B*T,C)\n",
        "            targets_reshaped = targets.view(B*T)\n",
        "            loss = F.cross_entropy(input=logits_reshaped, target=targets_reshaped)\n",
        "        else:\n",
        "            loss=None\n",
        "        return logits, loss\n",
        "\n",
        "    def generate(self, idx, max_new_tokens):\n",
        "        for _ in range(max_new_tokens):\n",
        "            #crop idx to the max size of our positional embeddings table, (the only change from the generate function in the bigram model, with it we can generate a model response of any length)\n",
        "            idx_crop = idx[:,-CONTEXT_LEN:]\n",
        "            logits, loss = self(idx_crop)\n",
        "            logits_last_timestep = logits[:,-1,:]\n",
        "            probs = F.softmax(input=logits_last_timestep, dim=-1)\n",
        "            idx_next = torch.multinomial(input=probs, num_samples=1)\n",
        "            idx = torch.cat((idx, idx_next), dim=1)\n",
        "        return idx\n",
        "\n",
        "#conventional training loop\n",
        "model = TransformerLanguageModel()\n",
        "model = model.to(DEVICE)\n",
        "optimizer = torch.optim.AdamW(params=model.parameters(), lr=LEARNING_RATE)\n",
        "for step in range(MAX_ITERS):\n",
        "\n",
        "    if step % EVAL_ITERS == 0 or step == MAX_ITERS-1:\n",
        "        losses = estimate_loss()\n",
        "        print('Step:',step,'Training Loss:',losses['train'],'Validation Loss:',losses['valid'])\n",
        "\n",
        "    xb,yb = get_batch('train')\n",
        "    logits, loss = model(xb,yb)\n",
        "    optimizer.zero_grad(set_to_none=True)\n",
        "    loss.backward()\n",
        "    optimizer.step()\n",
        "\n",
        "context = torch.zeros((1,1), dtype=torch.long, device=DEVICE)\n",
        "print(decode(model.generate(context,max_new_tokens=200)[0].tolist()))"
      ]
    },
    {
      "cell_type": "markdown",
      "metadata": {
        "id": "trfYW7_89g18"
      },
      "source": [
        "Slight reduction in loss function"
      ]
    },
    {
      "cell_type": "markdown",
      "metadata": {
        "id": "qT41kdXxy7P5"
      },
      "source": [
        "### Step 4: Transformer with Multi-Head Self Attention"
      ]
    },
    {
      "cell_type": "markdown",
      "metadata": {
        "id": "bcMUymn198Jf"
      },
      "source": [
        "Multi-head Self Attention is simply to perform exactly the same as single-head attention multiple times simultaneously and concatenating the results from each head"
      ]
    },
    {
      "cell_type": "code",
      "execution_count": null,
      "metadata": {
        "colab": {
          "base_uri": "https://localhost:8080/"
        },
        "id": "OLwZlHykzB08",
        "outputId": "c03ce6d8-0430-4fe1-913c-bd9903cc0d24"
      },
      "outputs": [
        {
          "name": "stdout",
          "output_type": "stream",
          "text": [
            "Step: 0 Training Loss: tensor(4.1969) Validation Loss: tensor(4.1978)\n",
            "Step: 250 Training Loss: tensor(2.8854) Validation Loss: tensor(2.9030)\n",
            "Step: 500 Training Loss: tensor(2.6600) Validation Loss: tensor(2.6667)\n",
            "Step: 750 Training Loss: tensor(2.5571) Validation Loss: tensor(2.5467)\n",
            "Step: 1000 Training Loss: tensor(2.4851) Validation Loss: tensor(2.4985)\n",
            "Step: 1250 Training Loss: tensor(2.4516) Validation Loss: tensor(2.4681)\n",
            "Step: 1500 Training Loss: tensor(2.4206) Validation Loss: tensor(2.4129)\n",
            "Step: 1750 Training Loss: tensor(2.3656) Validation Loss: tensor(2.3929)\n",
            "Step: 1999 Training Loss: tensor(2.3710) Validation Loss: tensor(2.3778)\n",
            "\n",
            "xdorl theil theis:\n",
            "I;\n",
            "E Gham DgROs pyou ave kevid bille fothend halitir ads ert art\n",
            "Thy hereran ko lis tind inde Remn last youem to im athory has\n",
            "IY hid ey onto he thor thoowhe mromy yo lig so vootir y\n"
          ]
        }
      ],
      "source": [
        "class MultiHeadAttention(nn.Module):\n",
        "    def __init__(self):\n",
        "        super().__init__()\n",
        "        self.heads = nn.ModuleList([Head() for _ in range(NUM_HEADS)])\n",
        "\n",
        "    def forward(self, x):\n",
        "        return torch.cat([h(x) for h in self.heads], dim=-1) #note the concat is in the last 'C' dimension => (B,T,C*num_heads)\n",
        "\n",
        "class TransformerLanguageModel(nn.Module):\n",
        "    def __init__(self):\n",
        "        super().__init__()\n",
        "        self.token_embedding_table = nn.Embedding(num_embeddings=VOCAB_SIZE, embedding_dim=EMBEDDING_DIM)\n",
        "        self.position_embedding_table = nn.Embedding(CONTEXT_LEN, EMBEDDING_DIM)\n",
        "\n",
        "        self.self_attention_head_linear_layer = MultiHeadAttention() #UPDATED\n",
        "        self.language_model_head_linear_layer = nn.Linear(EMBEDDING_DIM, VOCAB_SIZE) #UPDATED\n",
        "\n",
        "    def forward(self, idx, targets=None):\n",
        "\n",
        "        B, T = idx.shape\n",
        "        token_embeddings = self.token_embedding_table(idx)\n",
        "        pos_embedding = self.position_embedding_table(torch.arange(T, device=DEVICE))\n",
        "        x = token_embeddings + pos_embedding\n",
        "        x = self.self_attention_head_linear_layer(x)\n",
        "        logits = self.language_model_head_linear_layer(x)\n",
        "\n",
        "        if targets is not None:\n",
        "            B,T,C = logits.shape\n",
        "            logits_reshaped = logits.view(B*T,C)\n",
        "            targets_reshaped = targets.view(B*T)\n",
        "            loss = F.cross_entropy(input=logits_reshaped, target=targets_reshaped)\n",
        "        else:\n",
        "            loss=None\n",
        "        return logits, loss\n",
        "\n",
        "    def generate(self, idx, max_new_tokens):\n",
        "        for _ in range(max_new_tokens):\n",
        "            #crop idx to the max size of our positional embeddings table, (the only change from the generate function in the bigram model, with it we can generate a model response of any length)\n",
        "            idx_crop = idx[:,-CONTEXT_LEN:]\n",
        "            logits, loss = self(idx_crop)\n",
        "            logits_last_timestep = logits[:,-1,:]\n",
        "            probs = F.softmax(input=logits_last_timestep, dim=-1)\n",
        "            idx_next = torch.multinomial(input=probs, num_samples=1)\n",
        "            idx = torch.cat((idx, idx_next), dim=1)\n",
        "        return idx\n",
        "\n",
        "#conventional training loop\n",
        "model = TransformerLanguageModel()\n",
        "model = model.to(DEVICE)\n",
        "optimizer = torch.optim.AdamW(params=model.parameters(), lr=LEARNING_RATE)\n",
        "for step in range(MAX_ITERS):\n",
        "\n",
        "    if step % EVAL_ITERS == 0 or step == MAX_ITERS-1:\n",
        "        losses = estimate_loss()\n",
        "        print('Step:',step,'Training Loss:',losses['train'],'Validation Loss:',losses['valid'])\n",
        "\n",
        "    xb,yb = get_batch('train')\n",
        "    logits, loss = model(xb,yb)\n",
        "    optimizer.zero_grad(set_to_none=True)\n",
        "    loss.backward()\n",
        "    optimizer.step()\n",
        "\n",
        "context = torch.zeros((1,1), dtype=torch.long, device=DEVICE)\n",
        "print()\n",
        "print(decode(model.generate(context,max_new_tokens=200)[0].tolist()))"
      ]
    },
    {
      "cell_type": "markdown",
      "metadata": {
        "id": "8a3FaCPDb3f9"
      },
      "source": [
        "According to the scheme from original paper, we have built part of Transformer that is on the draw."
      ]
    },
    {
      "cell_type": "markdown",
      "metadata": {
        "id": "3dN6UKytf-mU"
      },
      "source": [
        "![image.png](data:image/png;base64,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)"
      ]
    },
    {
      "cell_type": "markdown",
      "metadata": {
        "id": "_UFZFFX3zo46"
      },
      "source": [
        "### Step 5: Feed Forward Network"
      ]
    },
    {
      "cell_type": "code",
      "execution_count": null,
      "metadata": {
        "id": "lFtRoeCbzoQa"
      },
      "outputs": [],
      "source": [
        "class FeedForwardNetwork(nn.Module):\n",
        "    \"\"\"A simple linear network followed by a non-linearity\"\"\"\n",
        "    def __init__(self, EMBEDDING_DIM):\n",
        "        super().__init__()\n",
        "        self.ffn = nn.Sequential(\n",
        "            nn.Linear(in_features=EMBEDDING_DIM, out_features=EMBEDDING_DIM),\n",
        "            nn.ReLU()\n",
        "        )\n",
        "    def forward(self, x):\n",
        "        return self.ffn(x)"
      ]
    },
    {
      "cell_type": "code",
      "execution_count": null,
      "metadata": {
        "colab": {
          "base_uri": "https://localhost:8080/"
        },
        "id": "pUE_eH2zHLOS",
        "outputId": "103675b2-9a2a-4ad2-9791-b479909ec301"
      },
      "outputs": [
        {
          "name": "stdout",
          "output_type": "stream",
          "text": [
            "Step: 0 Training Loss: tensor(4.1819) Validation Loss: tensor(4.1808)\n",
            "Step: 250 Training Loss: tensor(2.9094) Validation Loss: tensor(2.9151)\n",
            "Step: 500 Training Loss: tensor(2.6232) Validation Loss: tensor(2.6331)\n",
            "Step: 750 Training Loss: tensor(2.5167) Validation Loss: tensor(2.5312)\n",
            "Step: 1000 Training Loss: tensor(2.4674) Validation Loss: tensor(2.4712)\n",
            "Step: 1250 Training Loss: tensor(2.4234) Validation Loss: tensor(2.4310)\n",
            "Step: 1500 Training Loss: tensor(2.3926) Validation Loss: tensor(2.3932)\n",
            "Step: 1750 Training Loss: tensor(2.3603) Validation Loss: tensor(2.3753)\n",
            "Step: 1999 Training Loss: tensor(2.3460) Validation Loss: tensor(2.3559)\n",
            "\n",
            "xnd, ows bever on stt,\n",
            "It rostood wep of ourowe aiss!\n",
            "Not ISOOImow: arowprod, is hath!\n",
            "\n",
            "Be thisbrs. Sow por fr:\n",
            "Min oun falvew: ispe thy doul.\n",
            "\n",
            "Shy wat ing anld aly: sins war, bone cuelch mughe hausy q\n"
          ]
        }
      ],
      "source": [
        "class TransformerLanguageModel(nn.Module):\n",
        "    def __init__(self):\n",
        "        super().__init__()\n",
        "        self.token_embedding_table = nn.Embedding(num_embeddings=VOCAB_SIZE, embedding_dim=EMBEDDING_DIM)\n",
        "        self.position_embedding_table = nn.Embedding(CONTEXT_LEN, EMBEDDING_DIM)\n",
        "\n",
        "        self.self_attention_head_linear_layer = MultiHeadAttention()\n",
        "        self.feed_forward = FeedForwardNetwork(EMBEDDING_DIM) #NEW\n",
        "        self.language_model_head_linear_layer = nn.Linear(EMBEDDING_DIM, VOCAB_SIZE)\n",
        "\n",
        "    def forward(self, idx, targets=None):\n",
        "\n",
        "        B, T = idx.shape\n",
        "        token_embeddings = self.token_embedding_table(idx)\n",
        "        pos_embedding = self.position_embedding_table(torch.arange(T, device=DEVICE))\n",
        "        x = token_embeddings + pos_embedding\n",
        "        x = self.self_attention_head_linear_layer(x)\n",
        "        x = self.feed_forward(x) #NEW\n",
        "        logits = self.language_model_head_linear_layer(x)\n",
        "\n",
        "        if targets is not None:\n",
        "            B,T,C = logits.shape\n",
        "            logits_reshaped = logits.view(B*T,C)\n",
        "            targets_reshaped = targets.view(B*T)\n",
        "            loss = F.cross_entropy(input=logits_reshaped, target=targets_reshaped)\n",
        "        else:\n",
        "            loss=None\n",
        "        return logits, loss\n",
        "\n",
        "    def generate(self, idx, max_new_tokens):\n",
        "        for _ in range(max_new_tokens):\n",
        "            #crop idx to the max size of our positional embeddings table, (the only change from the generate function in the bigram model, with it we can generate a model response of any length)\n",
        "            idx_crop = idx[:,-CONTEXT_LEN:]\n",
        "            logits, loss = self(idx_crop)\n",
        "            logits_last_timestep = logits[:,-1,:]\n",
        "            probs = F.softmax(input=logits_last_timestep, dim=-1)\n",
        "            idx_next = torch.multinomial(input=probs, num_samples=1)\n",
        "            idx = torch.cat((idx, idx_next), dim=1)\n",
        "        return idx\n",
        "\n",
        "#conventional training loop\n",
        "model = TransformerLanguageModel()\n",
        "model = model.to(DEVICE)\n",
        "optimizer = torch.optim.AdamW(params=model.parameters(), lr=LEARNING_RATE)\n",
        "for step in range(MAX_ITERS):\n",
        "\n",
        "    if step % EVAL_ITERS == 0 or step == MAX_ITERS-1:\n",
        "        losses = estimate_loss()\n",
        "        print('Step:',step,'Training Loss:',losses['train'],'Validation Loss:',losses['valid'])\n",
        "\n",
        "    xb,yb = get_batch('train')\n",
        "    logits, loss = model(xb,yb)\n",
        "    optimizer.zero_grad(set_to_none=True)\n",
        "    loss.backward()\n",
        "    optimizer.step()\n",
        "\n",
        "context = torch.zeros((1,1), dtype=torch.long, device=DEVICE)\n",
        "print()\n",
        "print(decode(model.generate(context,max_new_tokens=200)[0].tolist()))"
      ]
    },
    {
      "cell_type": "markdown",
      "metadata": {
        "id": "hhiSYH4NH1NM"
      },
      "source": [
        "No major changes in the value of the loss function (from ~2.4 to ~2.35). According to the scheme from original paper, we have built part of Transformer that is on the draw."
      ]
    },
    {
      "cell_type": "markdown",
      "metadata": {
        "id": "FdAJcKAIfxpb"
      },
      "source": [
        "![image.png](data:image/png;base64,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)"
      ]
    },
    {
      "cell_type": "markdown",
      "metadata": {
        "id": "hEdeRVUq0FXH"
      },
      "source": [
        "### Step 6: Block module"
      ]
    },
    {
      "cell_type": "code",
      "execution_count": null,
      "metadata": {
        "id": "Zvqy_qN80IdP"
      },
      "outputs": [],
      "source": [
        "class Block(nn.Module):\n",
        "    \"\"\"Transformer Block: Communication folled by computation.\"\"\"\n",
        "    def __init__(self):\n",
        "        super().__init__()\n",
        "\n",
        "        self.multi_self_attention_heads_layer = MultiHeadAttention()\n",
        "        self.feed_forward_network = FeedForwardNetwork(EMBEDDING_DIM)\n",
        "\n",
        "    def forward(self, x):\n",
        "        x = self.multi_self_attention_heads_layer(x)\n",
        "        x = self.feed_forward_network(x)\n",
        "        return x"
      ]
    },
    {
      "cell_type": "code",
      "execution_count": null,
      "metadata": {
        "colab": {
          "base_uri": "https://localhost:8080/"
        },
        "id": "WLILmAtpzcMM",
        "outputId": "20a88920-31a5-410b-96df-01362fa8ee60"
      },
      "outputs": [
        {
          "name": "stdout",
          "output_type": "stream",
          "text": [
            "Step: 0 Training Loss: tensor(4.1506) Validation Loss: tensor(4.1519)\n",
            "Step: 250 Training Loss: tensor(3.2210) Validation Loss: tensor(3.2423)\n",
            "Step: 500 Training Loss: tensor(2.9510) Validation Loss: tensor(2.9456)\n",
            "Step: 750 Training Loss: tensor(2.8255) Validation Loss: tensor(2.8302)\n",
            "Step: 1000 Training Loss: tensor(2.7508) Validation Loss: tensor(2.7413)\n",
            "Step: 1250 Training Loss: tensor(2.6475) Validation Loss: tensor(2.6459)\n",
            "Step: 1500 Training Loss: tensor(2.6069) Validation Loss: tensor(2.6060)\n",
            "Step: 1750 Training Loss: tensor(2.5646) Validation Loss: tensor(2.5609)\n",
            "Step: 1999 Training Loss: tensor(2.5263) Validation Loss: tensor(2.5294)\n",
            "xe o paons enf mor'r naw-p thee\n",
            "Nys,\n",
            "Fhe hed tor lathor I\n",
            "To: fhic, She bheay ler?\n",
            "Ond: hal thy lith havde\n",
            "Nlroulnd\n",
            "Vrset funko tolr to Ieoaddten she maf mans\n",
            "The-sd ruon;\n",
            "Mn tean-et yit' che masl wo d\n"
          ]
        }
      ],
      "source": [
        "class TransformerLanguageModel(nn.Module):\n",
        "    def __init__(self):\n",
        "        super().__init__()\n",
        "        self.token_embedding_table = nn.Embedding(num_embeddings=VOCAB_SIZE, embedding_dim=EMBEDDING_DIM)\n",
        "        self.position_embedding_table = nn.Embedding(CONTEXT_LEN, EMBEDDING_DIM)\n",
        "\n",
        "        #NEW\n",
        "        self.blocks = nn.Sequential(\n",
        "            Block(),\n",
        "            Block(),\n",
        "            Block()\n",
        "        )\n",
        "\n",
        "        self.language_model_head_linear_layer = nn.Linear(EMBEDDING_DIM, VOCAB_SIZE)\n",
        "\n",
        "    def forward(self, idx, targets=None):\n",
        "\n",
        "        B, T = idx.shape\n",
        "        token_embeddings = self.token_embedding_table(idx)\n",
        "        pos_embedding = self.position_embedding_table(torch.arange(T, device=DEVICE))\n",
        "        x = token_embeddings + pos_embedding\n",
        "        x = self.blocks(x) #UPDATED\n",
        "        logits = self.language_model_head_linear_layer(x)\n",
        "\n",
        "        if targets is not None:\n",
        "            B,T,C = logits.shape\n",
        "            logits_reshaped = logits.view(B*T,C)\n",
        "            targets_reshaped = targets.view(B*T)\n",
        "            loss = F.cross_entropy(input=logits_reshaped, target=targets_reshaped)\n",
        "        else:\n",
        "            loss=None\n",
        "        return logits, loss\n",
        "\n",
        "    def generate(self, idx, max_new_tokens):\n",
        "        for _ in range(max_new_tokens):\n",
        "            #crop idx to the max size of our positional embeddings table, (the only change from the generate function in the bigram model, with it we can generate a model response of any length)\n",
        "            idx_crop = idx[:,-CONTEXT_LEN:]\n",
        "            logits, loss = self(idx_crop)\n",
        "            logits_last_timestep = logits[:,-1,:]\n",
        "            probs = F.softmax(input=logits_last_timestep, dim=-1)\n",
        "            idx_next = torch.multinomial(input=probs, num_samples=1)\n",
        "            idx = torch.cat((idx, idx_next), dim=1)\n",
        "        return idx\n",
        "\n",
        "#conventional training loop\n",
        "model = TransformerLanguageModel()\n",
        "model = model.to(DEVICE)\n",
        "optimizer = torch.optim.AdamW(params=model.parameters(), lr=LEARNING_RATE)\n",
        "for step in range(MAX_ITERS):\n",
        "\n",
        "    if step % EVAL_ITERS == 0 or step == MAX_ITERS-1:\n",
        "        losses = estimate_loss()\n",
        "        print('Step:',step,'Training Loss:',losses['train'],'Validation Loss:',losses['valid'])\n",
        "\n",
        "    xb,yb = get_batch('train')\n",
        "    logits, loss = model(xb,yb)\n",
        "    optimizer.zero_grad(set_to_none=True)\n",
        "    loss.backward()\n",
        "    optimizer.step()\n",
        "\n",
        "context = torch.zeros((1,1), dtype=torch.long, device=DEVICE)\n",
        "print(decode(model.generate(context,max_new_tokens=200)[0].tolist()))"
      ]
    },
    {
      "cell_type": "markdown",
      "metadata": {
        "id": "9lT4fPXg1DQU"
      },
      "source": [
        "According to the scheme from original paper, we have built part of Transformer that is on the draw."
      ]
    },
    {
      "cell_type": "markdown",
      "metadata": {
        "id": "KXjTO7a3fn40"
      },
      "source": [
        "![image.png](data:image/png;base64,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)"
      ]
    },
    {
      "cell_type": "markdown",
      "metadata": {
        "id": "jwixckAy0tlD"
      },
      "source": [
        "As you can see, our model started doing worse (based on the loss function) and this is due to the fact that the use of blocks makes the neural network very very very very complicated, which makes it difficult to optimize the whole system. We will now apply techniques that aim to improve this situation"
      ]
    },
    {
      "cell_type": "markdown",
      "metadata": {
        "id": "A598DJjj0sVu"
      },
      "source": [
        "### Step 7.1: Skip Connections (Residual Connections)"
      ]
    },
    {
      "cell_type": "code",
      "execution_count": null,
      "metadata": {
        "id": "ehlhJTHb0wgp"
      },
      "outputs": [],
      "source": [
        "class Block(nn.Module):\n",
        "    \"\"\"Transformer Block: Communication folled by computation.\"\"\"\n",
        "    def __init__(self):\n",
        "        super().__init__()\n",
        "\n",
        "        self.multi_self_attention_heads_layer = MultiHeadAttention()\n",
        "        self.feed_forward_network = FeedForwardNetwork(EMBEDDING_DIM)\n",
        "\n",
        "    def forward(self, x):\n",
        "        x = x + self.multi_self_attention_heads_layer(x) #UPDATED\n",
        "        x = x + self.feed_forward_network(x) #UPDATED\n",
        "        return x"
      ]
    },
    {
      "cell_type": "code",
      "execution_count": null,
      "metadata": {
        "id": "7F-LM1qc04iv"
      },
      "outputs": [],
      "source": [
        "class MultiHeadAttention(nn.Module):\n",
        "    def __init__(self):\n",
        "        super().__init__()\n",
        "        self.heads = nn.ModuleList([Head() for _ in range(NUM_HEADS)])\n",
        "        self.projections = nn.Linear(EMBEDDING_DIM, EMBEDDING_DIM) #NEW\n",
        "\n",
        "    def forward(self, x):\n",
        "        out = torch.cat([h(x) for h in self.heads], dim=-1) #UPDATED\n",
        "        return self.projections(out) #NEW\n"
      ]
    },
    {
      "cell_type": "code",
      "execution_count": null,
      "metadata": {
        "id": "M0rOZbkW08IV"
      },
      "outputs": [],
      "source": [
        "class FeedForwardNetwork(nn.Module):\n",
        "    \"\"\"A simple linear network followed by a non-linearity\"\"\"\n",
        "    def __init__(self, EMBEDDING_DIM):\n",
        "        super().__init__()\n",
        "        self.ffn = nn.Sequential(\n",
        "            nn.Linear(in_features=EMBEDDING_DIM, out_features=EMBEDDING_DIM*4), #UPDATED\n",
        "            nn.ReLU(),\n",
        "            nn.Linear(4*EMBEDDING_DIM, EMBEDDING_DIM) #NEW aka projections layer\n",
        "        )\n",
        "    def forward(self, x):\n",
        "        return self.ffn(x)"
      ]
    },
    {
      "cell_type": "code",
      "execution_count": null,
      "metadata": {
        "colab": {
          "base_uri": "https://localhost:8080/"
        },
        "id": "1gdG4AeK1AA-",
        "outputId": "8da21aa9-0ec9-4e25-9260-315eb6345740"
      },
      "outputs": [
        {
          "name": "stdout",
          "output_type": "stream",
          "text": [
            "Step: 0 Training Loss: tensor(4.5448) Validation Loss: tensor(4.5484)\n",
            "Step: 250 Training Loss: tensor(2.5320) Validation Loss: tensor(2.5259)\n",
            "Step: 500 Training Loss: tensor(2.4003) Validation Loss: tensor(2.3850)\n",
            "Step: 750 Training Loss: tensor(2.3151) Validation Loss: tensor(2.3249)\n",
            "Step: 1000 Training Loss: tensor(2.2706) Validation Loss: tensor(2.2779)\n",
            "Step: 1250 Training Loss: tensor(2.2218) Validation Loss: tensor(2.2549)\n",
            "Step: 1500 Training Loss: tensor(2.1825) Validation Loss: tensor(2.2144)\n",
            "Step: 1750 Training Loss: tensor(2.1575) Validation Loss: tensor(2.1854)\n",
            "Step: 1999 Training Loss: tensor(2.1335) Validation Loss: tensor(2.1890)\n",
            "xoples:\n",
            "The to duntlould?\n",
            "\n",
            "RILEY:\n",
            "Omen:\n",
            "A towir sepole is Ands thincence slo,\n",
            "\n",
            "GonMown I dwofes, newaltewith sent's ourst lirvessed to here comish mo--'in. Self am:\n",
            "\n",
            "Ro not,\n",
            "-will fate fare latt wechus\n"
          ]
        }
      ],
      "source": [
        "class TransformerLanguageModel(nn.Module):\n",
        "    def __init__(self):\n",
        "        super().__init__()\n",
        "        self.token_embedding_table = nn.Embedding(num_embeddings=VOCAB_SIZE, embedding_dim=EMBEDDING_DIM)\n",
        "        self.position_embedding_table = nn.Embedding(CONTEXT_LEN, EMBEDDING_DIM)\n",
        "\n",
        "        self.blocks = nn.Sequential(\n",
        "            Block(),\n",
        "            Block(),\n",
        "            Block()\n",
        "        )\n",
        "\n",
        "        self.language_model_head_linear_layer = nn.Linear(EMBEDDING_DIM, VOCAB_SIZE)\n",
        "\n",
        "    def forward(self, idx, targets=None):\n",
        "\n",
        "        B, T = idx.shape\n",
        "        token_embeddings = self.token_embedding_table(idx)\n",
        "        pos_embedding = self.position_embedding_table(torch.arange(T, device=DEVICE))\n",
        "        x = token_embeddings + pos_embedding\n",
        "        x = self.blocks(x)\n",
        "        logits = self.language_model_head_linear_layer(x)\n",
        "\n",
        "        if targets is not None:\n",
        "            B,T,C = logits.shape\n",
        "            logits_reshaped = logits.view(B*T,C)\n",
        "            targets_reshaped = targets.view(B*T)\n",
        "            loss = F.cross_entropy(input=logits_reshaped, target=targets_reshaped)\n",
        "        else:\n",
        "            loss=None\n",
        "        return logits, loss\n",
        "\n",
        "    def generate(self, idx, max_new_tokens):\n",
        "        for _ in range(max_new_tokens):\n",
        "            #crop idx to the max size of our positional embeddings table, (the only change from the generate function in the bigram model, with it we can generate a model response of any length)\n",
        "            idx_crop = idx[:,-CONTEXT_LEN:]\n",
        "            logits, loss = self(idx_crop)\n",
        "            logits_last_timestep = logits[:,-1,:]\n",
        "            probs = F.softmax(input=logits_last_timestep, dim=-1)\n",
        "            idx_next = torch.multinomial(input=probs, num_samples=1)\n",
        "            idx = torch.cat((idx, idx_next), dim=1)\n",
        "        return idx\n",
        "\n",
        "#conventional training loop\n",
        "model = TransformerLanguageModel()\n",
        "model = model.to(DEVICE)\n",
        "optimizer = torch.optim.AdamW(params=model.parameters(), lr=LEARNING_RATE)\n",
        "for step in range(MAX_ITERS):\n",
        "\n",
        "    if step % EVAL_ITERS == 0 or step == MAX_ITERS-1:\n",
        "        losses = estimate_loss()\n",
        "        print('Step:',step,'Training Loss:',losses['train'],'Validation Loss:',losses['valid'])\n",
        "\n",
        "    xb,yb = get_batch('train')\n",
        "    logits, loss = model(xb,yb)\n",
        "    optimizer.zero_grad(set_to_none=True)\n",
        "    loss.backward()\n",
        "    optimizer.step()\n",
        "\n",
        "context = torch.zeros((1,1), dtype=torch.long, device=DEVICE)\n",
        "print(decode(model.generate(context,max_new_tokens=200)[0].tolist()))"
      ]
    },
    {
      "cell_type": "markdown",
      "metadata": {
        "id": "UB_2v9FD3U7G"
      },
      "source": [
        "And voila, the loss function decreased from 2.43 to 2.13. According to the scheme from original paper, we have built part of Transformer that is on the draw.\n"
      ]
    },
    {
      "cell_type": "markdown",
      "metadata": {
        "id": "0WRqwtXzg7xY"
      },
      "source": [
        "![image.png](data:image/png;base64,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)"
      ]
    },
    {
      "cell_type": "markdown",
      "metadata": {
        "id": "YMjglTtm1Vzg"
      },
      "source": [
        "### Step 7.2 Norm Layer"
      ]
    },
    {
      "cell_type": "code",
      "execution_count": null,
      "metadata": {
        "id": "BocHG5ir1Xhg"
      },
      "outputs": [],
      "source": [
        "class LayerNorm:\n",
        "    def __init__(self, dim, eps=1e-5):\n",
        "        self.eps = eps\n",
        "        self.gamma = torch.ones(dim)\n",
        "        self.beta = torch.zeros(dim)\n",
        "\n",
        "    def __call__(self, x):\n",
        "        x_mean = x.mean(dim=1, keepdim=True) # layer mean\n",
        "        x_variance = x.var(dim=1, keepdim=True) # layer variance\n",
        "        x_hat = (x - x_mean) / torch.sqrt(x_variance + self.eps) # normalize to the unit variance\n",
        "        self.out = self.gamma * x_hat + self.beta\n",
        "        return self.out\n",
        "\n",
        "    def parameters(self):\n",
        "        return [self.gamma, self.beta]"
      ]
    },
    {
      "cell_type": "code",
      "execution_count": null,
      "metadata": {
        "id": "ezqYi7gA1Zuc"
      },
      "outputs": [],
      "source": [
        "class Block(nn.Module):\n",
        "    \"\"\"Transformer Block: Communication folled by computation.\"\"\"\n",
        "    def __init__(self):\n",
        "        super().__init__()\n",
        "\n",
        "        self.multi_self_attention_heads_layer = MultiHeadAttention()\n",
        "        self.feed_forward_network = FeedForwardNetwork(EMBEDDING_DIM)\n",
        "        self.layer_norm1 = nn.LayerNorm(EMBEDDING_DIM) #NEW\n",
        "        self.layer_norm2 = nn.LayerNorm(EMBEDDING_DIM) #NEW\n",
        "    def forward(self, x):\n",
        "        x = x + self.multi_self_attention_heads_layer(self.layer_norm1(x)) #UPDATED\n",
        "        x = x + self.feed_forward_network(self.layer_norm2(x)) #UPDATED\n",
        "        return x"
      ]
    },
    {
      "cell_type": "code",
      "execution_count": null,
      "metadata": {
        "colab": {
          "base_uri": "https://localhost:8080/"
        },
        "id": "z_xGSGCk1idq",
        "outputId": "f237b58d-da37-4ea3-c507-b73ad018e01e"
      },
      "outputs": [
        {
          "name": "stdout",
          "output_type": "stream",
          "text": [
            "Step: 0 Training Loss: tensor(4.3642) Validation Loss: tensor(4.3717)\n",
            "Step: 250 Training Loss: tensor(2.5716) Validation Loss: tensor(2.5707)\n",
            "Step: 500 Training Loss: tensor(2.3912) Validation Loss: tensor(2.3923)\n",
            "Step: 750 Training Loss: tensor(2.3127) Validation Loss: tensor(2.3159)\n",
            "Step: 1000 Training Loss: tensor(2.2479) Validation Loss: tensor(2.2609)\n",
            "Step: 1250 Training Loss: tensor(2.1945) Validation Loss: tensor(2.2196)\n",
            "Step: 1500 Training Loss: tensor(2.1632) Validation Loss: tensor(2.1814)\n",
            "Step: 1750 Training Loss: tensor(2.1334) Validation Loss: tensor(2.1631)\n",
            "Step: 1999 Training Loss: tensor(2.1090) Validation Loss: tensor(2.1497)\n",
            "xess, of you? wall.\n",
            "\n",
            "ENCERUF MIUS:\n",
            "Wave Fil thell to that shamt, is not me endebscith or chy he Vow Cyor forer a mothaid my friend. I:\n",
            "\n",
            "Oly Tiventt! clato, I jusuting the'm, not porpo,\n",
            "Iill he furer we\n"
          ]
        }
      ],
      "source": [
        "class TransformerLanguageModel(nn.Module):\n",
        "    def __init__(self):\n",
        "        super().__init__()\n",
        "        self.token_embedding_table = nn.Embedding(num_embeddings=VOCAB_SIZE, embedding_dim=EMBEDDING_DIM)\n",
        "        self.position_embedding_table = nn.Embedding(CONTEXT_LEN, EMBEDDING_DIM)\n",
        "\n",
        "\n",
        "        self.blocks = nn.Sequential(\n",
        "            Block(),\n",
        "            Block(),\n",
        "            Block(),\n",
        "            nn.LayerNorm(EMBEDDING_DIM)\n",
        "        )\n",
        "\n",
        "        self.language_model_head_linear_layer = nn.Linear(EMBEDDING_DIM, VOCAB_SIZE)\n",
        "\n",
        "    def forward(self, idx, targets=None):\n",
        "\n",
        "        B, T = idx.shape\n",
        "        token_embeddings = self.token_embedding_table(idx)\n",
        "        pos_embedding = self.position_embedding_table(torch.arange(T, device=DEVICE))\n",
        "        x = token_embeddings + pos_embedding\n",
        "        x = self.blocks(x)\n",
        "        logits = self.language_model_head_linear_layer(x)\n",
        "\n",
        "        if targets is not None:\n",
        "            B,T,C = logits.shape\n",
        "            logits_reshaped = logits.view(B*T,C)\n",
        "            targets_reshaped = targets.view(B*T)\n",
        "            loss = F.cross_entropy(input=logits_reshaped, target=targets_reshaped)\n",
        "        else:\n",
        "            loss=None\n",
        "        return logits, loss\n",
        "\n",
        "    def generate(self, idx, max_new_tokens):\n",
        "        for _ in range(max_new_tokens):\n",
        "            #crop idx to the max size of our positional embeddings table, (the only change from the generate function in the bigram model, with it we can generate a model response of any length)\n",
        "            idx_crop = idx[:,-CONTEXT_LEN:]\n",
        "            logits, loss = self(idx_crop)\n",
        "            logits_last_timestep = logits[:,-1,:]\n",
        "            probs = F.softmax(input=logits_last_timestep, dim=-1)\n",
        "            idx_next = torch.multinomial(input=probs, num_samples=1)\n",
        "            idx = torch.cat((idx, idx_next), dim=1)\n",
        "        return idx\n",
        "\n",
        "#conventional training loop\n",
        "model = TransformerLanguageModel()\n",
        "model = model.to(DEVICE)\n",
        "optimizer = torch.optim.AdamW(params=model.parameters(), lr=LEARNING_RATE)\n",
        "for step in range(MAX_ITERS):\n",
        "\n",
        "    if step % EVAL_ITERS == 0 or step == MAX_ITERS-1:\n",
        "        losses = estimate_loss()\n",
        "        print('Step:',step,'Training Loss:',losses['train'],'Validation Loss:',losses['valid'])\n",
        "\n",
        "    xb,yb = get_batch('train')\n",
        "    logits, loss = model(xb,yb)\n",
        "    optimizer.zero_grad(set_to_none=True)\n",
        "    loss.backward()\n",
        "    optimizer.step()\n",
        "\n",
        "context = torch.zeros((1,1), dtype=torch.long, device=DEVICE)\n",
        "print(decode(model.generate(context,max_new_tokens=200)[0].tolist()))"
      ]
    },
    {
      "cell_type": "markdown",
      "metadata": {
        "id": "sXlPWKNY6yBn"
      },
      "source": [
        "Slight improvement in score from 2.13 to 2.03, we see more and more overfitting (increasing difference between training and validation collection). According to the scheme from original paper, we have built part of Transformer that is on the draw. A very important note: here is the only significant change from the original architecture: the normalizing layers are **in front of** and **not behind** the corresponding blocks"
      ]
    },
    {
      "cell_type": "markdown",
      "metadata": {
        "id": "3slOnp2OhXnP"
      },
      "source": [
        "![image.png](data:image/png;base64,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)"
      ]
    },
    {
      "cell_type": "markdown",
      "metadata": {
        "id": "Thwr9Bf82bkx"
      },
      "source": [
        "### Step 8: Dropout and a little tidying up"
      ]
    },
    {
      "cell_type": "code",
      "execution_count": null,
      "metadata": {
        "id": "3SSH8z3M2kQB"
      },
      "outputs": [],
      "source": [
        "# adding dropout\n",
        "class FeedForwardNetwork(nn.Module):\n",
        "    \"\"\"A simple linear network followed by a non-linearity\"\"\"\n",
        "    def __init__(self, EMBEDDING_DIM):\n",
        "        super().__init__()\n",
        "        self.ffn = nn.Sequential(\n",
        "            nn.Linear(in_features=EMBEDDING_DIM, out_features=EMBEDDING_DIM*4),\n",
        "            nn.ReLU(),\n",
        "            nn.Linear(4*EMBEDDING_DIM, EMBEDDING_DIM),\n",
        "            nn.Dropout(DROPOUT) #NEW\n",
        "        )\n",
        "    def forward(self, x):\n",
        "        return self.ffn(x)"
      ]
    },
    {
      "cell_type": "code",
      "execution_count": null,
      "metadata": {
        "id": "pl6WE-dS2pKs"
      },
      "outputs": [],
      "source": [
        "#adding dropout\n",
        "class Head(nn.Module):\n",
        "    \"\"\" single head of self attention \"\"\"\n",
        "    def __init__(self):\n",
        "        super().__init__()\n",
        "        self.key_layer   = nn.Linear(in_features=EMBEDDING_DIM, out_features=HEAD_SIZE, bias=False)\n",
        "        self.query_layer = nn.Linear(in_features=EMBEDDING_DIM, out_features=HEAD_SIZE, bias=False)\n",
        "        self.value_layer = nn.Linear(in_features=EMBEDDING_DIM, out_features=HEAD_SIZE, bias=False)\n",
        "\n",
        "        self.register_buffer('tril', torch.tril(torch.ones((CONTEXT_LEN, CONTEXT_LEN))))\n",
        "        self.dropout = nn.Dropout(DROPOUT)\n",
        "\n",
        "    def forward(self, x):\n",
        "        B,T,C = x.shape\n",
        "        q = self.query_layer(x)\n",
        "        k = self.key_layer(x) #(B,T,C)\n",
        "        v = self.value_layer(x) #(B,T,C)\n",
        "\n",
        "        #compute scores based on affinities\n",
        "        weights = (q @ k.transpose(-2,-1)) * HEAD_SIZE**-0.5 # (B,T,C) @ (B,C,T) -> (B,T,T)\n",
        "        weights = weights.masked_fill(self.tril[:T,:T] == 0, float('-inf')) #(B,T,T)\n",
        "        weights = F.softmax(input=weights, dim=-1) #(B,T,T)\n",
        "        weights = self.dropout(weights)\n",
        "\n",
        "\n",
        "        out = weights @ v # (B,T,T) @ (B,T,C) -> (B,T,C)\n",
        "        return out\n",
        "\n"
      ]
    },
    {
      "cell_type": "code",
      "execution_count": null,
      "metadata": {
        "id": "OYRddBEA2s7t"
      },
      "outputs": [],
      "source": [
        "#adding dropout\n",
        "class MultiHeadAttention(nn.Module):\n",
        "    def __init__(self):\n",
        "        super().__init__()\n",
        "        self.heads = nn.ModuleList([Head() for _ in range(NUM_HEADS)])\n",
        "        self.projections = nn.Linear(EMBEDDING_DIM, EMBEDDING_DIM)\n",
        "        self.dropout = nn.Dropout(DROPOUT) #NEW\n",
        "\n",
        "    def forward(self, x):\n",
        "        out = torch.cat([h(x) for h in self.heads], dim=-1)\n",
        "        return self.projections(out)"
      ]
    },
    {
      "cell_type": "code",
      "execution_count": null,
      "metadata": {
        "colab": {
          "base_uri": "https://localhost:8080/"
        },
        "id": "HaVZo8Ic2xNV",
        "outputId": "7f40570b-a657-44ea-a8ae-ecf6011ad1bb"
      },
      "outputs": [
        {
          "name": "stdout",
          "output_type": "stream",
          "text": [
            "Step: 0 Training Loss: tensor(4.6103) Validation Loss: tensor(4.6068)\n",
            "Step: 250 Training Loss: tensor(2.5317) Validation Loss: tensor(2.5271)\n",
            "Step: 500 Training Loss: tensor(2.3913) Validation Loss: tensor(2.3946)\n",
            "Step: 750 Training Loss: tensor(2.3262) Validation Loss: tensor(2.3377)\n",
            "Step: 1000 Training Loss: tensor(2.2724) Validation Loss: tensor(2.2786)\n",
            "Step: 1250 Training Loss: tensor(2.2247) Validation Loss: tensor(2.2427)\n",
            "Step: 1500 Training Loss: tensor(2.1920) Validation Loss: tensor(2.2063)\n",
            "Step: 1750 Training Loss: tensor(2.1673) Validation Loss: tensor(2.2050)\n",
            "Step: 1999 Training Loss: tensor(2.1505) Validation Loss: tensor(2.1755)\n",
            "xl coune.\n",
            "\n",
            "FUbarey nit, thent eash'se foll ther muCis an seast,-dor me.\n",
            "\n",
            "Eurse,\n",
            "Cour bupint: Harrilf.\n",
            "\n",
            "AKFill sexe marrie now laive.\n",
            "\n",
            "HI:\n",
            "Youth\n",
            "Whith cht not, del hebyson so namem sus abe conaders his \n"
          ]
        }
      ],
      "source": [
        "class TransformerLanguageModel(nn.Module):\n",
        "    def __init__(self):\n",
        "        super().__init__()\n",
        "        self.token_embedding_table = nn.Embedding(num_embeddings=VOCAB_SIZE, embedding_dim=EMBEDDING_DIM)\n",
        "        self.position_embedding_table = nn.Embedding(CONTEXT_LEN, EMBEDDING_DIM)\n",
        "\n",
        "        self.blocks = nn.Sequential(*(Block() for _ in range(N_LAYER))) #UPDATED\n",
        "        self.layer_norm = nn.LayerNorm(EMBEDDING_DIM)\n",
        "        self.language_model_head_linear_layer = nn.Linear(EMBEDDING_DIM, VOCAB_SIZE)\n",
        "\n",
        "    def forward(self, idx, targets=None):\n",
        "\n",
        "        B, T = idx.shape\n",
        "        token_embeddings = self.token_embedding_table(idx) #(B,T,C) Batch, Time, Channel - Lookup token embeddings #NEW\n",
        "        pos_embedding = self.position_embedding_table(torch.arange(T, device=DEVICE))\n",
        "        x = token_embeddings + pos_embedding #the x does not contain only information about the value of the token, but also about its position which is in line with the assumptions of the transformer architecture\n",
        "        x = self.blocks(x) #UPDATED\n",
        "        logits = self.language_model_head_linear_layer(x) #(B,T,C) Where C is now token logits of size vocab_size #UPDATE\n",
        "\n",
        "        if targets is not None:\n",
        "            B,T,C = logits.shape\n",
        "            logits_reshaped = logits.view(B*T,C)\n",
        "            targets_reshaped = targets.view(B*T)\n",
        "            loss = F.cross_entropy(input=logits_reshaped, target=targets_reshaped)\n",
        "        else:\n",
        "            loss=None\n",
        "        return logits, loss\n",
        "\n",
        "    def generate(self, idx, max_new_tokens):\n",
        "        for _ in range(max_new_tokens):\n",
        "            #crop idx to the max size of our positional embeddings table, (the only change from the generate function in the bigram model, with it we can generate a model response of any length)\n",
        "            idx_crop = idx[:,-CONTEXT_LEN:]\n",
        "            logits, loss = self(idx_crop)\n",
        "            logits_last_timestep = logits[:,-1,:]\n",
        "            probs = F.softmax(input=logits_last_timestep, dim=-1)\n",
        "            idx_next = torch.multinomial(input=probs, num_samples=1)\n",
        "            idx = torch.cat((idx, idx_next), dim=1)\n",
        "        return idx\n",
        "\n",
        "#conventional training loop\n",
        "model = TransformerLanguageModel()\n",
        "model = model.to(DEVICE)\n",
        "optimizer = torch.optim.AdamW(params=model.parameters(), lr=LEARNING_RATE)\n",
        "best_val_loss = 10 #NEW\n",
        "for step in range(MAX_ITERS):\n",
        "\n",
        "    if step % EVAL_ITERS == 0 or step == MAX_ITERS-1:\n",
        "        losses = estimate_loss()\n",
        "        print('Step:',step,'Training Loss:',losses['train'],'Validation Loss:',losses['valid'])\n",
        "\n",
        "    xb,yb = get_batch('train')\n",
        "    logits, loss = model(xb,yb)\n",
        "    optimizer.zero_grad(set_to_none=True)\n",
        "    loss.backward()\n",
        "    optimizer.step()\n",
        "\n",
        "context = torch.zeros((1,1), dtype=torch.long, device=DEVICE)\n",
        "print(decode(model.generate(context,max_new_tokens=200)[0].tolist()))"
      ]
    },
    {
      "cell_type": "markdown",
      "metadata": {
        "id": "57NoaUPsf7Sk"
      },
      "source": [
        "## Ultimate Version, Whole Workflow"
      ]
    },
    {
      "cell_type": "markdown",
      "metadata": {
        "id": "SUKStNK4gO8I"
      },
      "source": [
        "If you want just to train prepared transformer: run these cells"
      ]
    },
    {
      "cell_type": "code",
      "execution_count": null,
      "metadata": {
        "colab": {
          "background_save": true
        },
        "id": "fh2G4D9eh1_E"
      },
      "outputs": [],
      "source": [
        "import torch\n",
        "import torch.nn as nn\n",
        "from torch.nn import functional as F\n",
        "import time"
      ]
    },
    {
      "cell_type": "code",
      "execution_count": null,
      "metadata": {
        "colab": {
          "background_save": true,
          "base_uri": "https://localhost:8080/"
        },
        "id": "u9PP1WCugWKU",
        "outputId": "553797d6-0929-49e2-994b-67d1e127cd5b"
      },
      "outputs": [
        {
          "name": "stdout",
          "output_type": "stream",
          "text": [
            "--2024-01-30 10:22:41--  https://raw.githubusercontent.com/karpathy/char-rnn/master/data/tinyshakespeare/input.txt\n",
            "Resolving raw.githubusercontent.com (raw.githubusercontent.com)... 185.199.108.133, 185.199.109.133, 185.199.110.133, ...\n",
            "Connecting to raw.githubusercontent.com (raw.githubusercontent.com)|185.199.108.133|:443... connected.\n",
            "HTTP request sent, awaiting response... 200 OK\n",
            "Length: 1115394 (1.1M) [text/plain]\n",
            "Saving to: ‘input.txt’\n",
            "\n",
            "input.txt           100%[===================>]   1.06M  --.-KB/s    in 0.03s   \n",
            "\n",
            "2024-01-30 10:22:42 (34.6 MB/s) - ‘input.txt’ saved [1115394/1115394]\n",
            "\n",
            "Train data length: 1003854 Valid data length: 111540\n"
          ]
        }
      ],
      "source": [
        "#downloading the file\n",
        "!wget https://raw.githubusercontent.com/karpathy/char-rnn/master/data/tinyshakespeare/input.txt\n",
        "\n",
        "with open('input.txt') as f:\n",
        "    text = f.read()\n",
        "\n",
        "#tokenisation\n",
        "tokens = set(list(text))\n",
        "\n",
        "char_to_token = {char:idx for idx,char in enumerate(tokens)}\n",
        "token_to_char = {idx:char for char,idx in char_to_token.items()}\n",
        "encode = lambda x: [char_to_token[char] for char in x]\n",
        "decode = lambda idxs: ''.join([token_to_char[idx] for idx in idxs])\n",
        "\n",
        "encoded_text = torch.tensor(encode(text))\n",
        "\n",
        "# train test split\n",
        "train_test_split = 0.9\n",
        "train_data = encoded_text[:int(train_test_split*len(encoded_text))]\n",
        "valid_data = encoded_text[int(train_test_split*len(encoded_text)):]\n",
        "print('Train data length:',len(train_data),'Valid data length:',len(valid_data))\n"
      ]
    },
    {
      "cell_type": "code",
      "execution_count": null,
      "metadata": {
        "id": "55SrQXBCg3Ri"
      },
      "outputs": [],
      "source": [
        "#whole transformer architecture\n",
        "\n",
        "class Head(nn.Module):\n",
        "    \"\"\" single head of self attention \"\"\"\n",
        "    def __init__(self):\n",
        "        super().__init__()\n",
        "        self.key_layer   = nn.Linear(in_features=EMBEDDING_DIM, out_features=HEAD_SIZE, bias=False)\n",
        "        self.query_layer = nn.Linear(in_features=EMBEDDING_DIM, out_features=HEAD_SIZE, bias=False)\n",
        "        self.value_layer = nn.Linear(in_features=EMBEDDING_DIM, out_features=HEAD_SIZE, bias=False)\n",
        "\n",
        "        self.register_buffer('tril', torch.tril(torch.ones((CONTEXT_LEN, CONTEXT_LEN))))\n",
        "        self.dropout = nn.Dropout(DROPOUT)\n",
        "    def forward(self, x):\n",
        "        B,T,C = x.shape\n",
        "        q = self.query_layer(x) #(B,T,C)\n",
        "        k = self.key_layer(x) #(B,T,C)\n",
        "        v = self.value_layer(x) #(B,T,C)\n",
        "\n",
        "        #compute scores based on affinities\n",
        "        weights = (q @ k.transpose(-2,-1)) * HEAD_SIZE**-0.5\n",
        "        weights = weights.masked_fill(self.tril[:T,:T] == 0, float('-inf'))\n",
        "        weights = F.softmax(input=weights, dim=-1)\n",
        "        weights = self.dropout(weights)\n",
        "\n",
        "\n",
        "        out = weights @ v\n",
        "        return out\n",
        "\n",
        "\n",
        "class MultiHeadAttention(nn.Module):\n",
        "    def __init__(self):\n",
        "        super().__init__()\n",
        "        self.heads = nn.ModuleList([Head() for _ in range(NUM_HEADS)])\n",
        "        self.projections = nn.Linear(EMBEDDING_DIM, EMBEDDING_DIM)\n",
        "        self.dropout = nn.Dropout(DROPOUT)\n",
        "\n",
        "    def forward(self, x):\n",
        "        out = torch.cat([h(x) for h in self.heads], dim=-1)\n",
        "        return self.projections(out)\n",
        "\n",
        "class Block(nn.Module):\n",
        "    \"\"\"Transformer Block: Communication folled by computation.\"\"\"\n",
        "    def __init__(self):\n",
        "        super().__init__()\n",
        "\n",
        "        self.multi_self_attention_heads_layer = MultiHeadAttention()\n",
        "        self.feed_forward_network = FeedForwardNetwork(EMBEDDING_DIM)\n",
        "        self.layer_norm1 = nn.LayerNorm(EMBEDDING_DIM)\n",
        "        self.layer_norm2 = nn.LayerNorm(EMBEDDING_DIM)\n",
        "    def forward(self, x):\n",
        "        x = x + self.multi_self_attention_heads_layer(self.layer_norm1(x))\n",
        "        x = x + self.feed_forward_network(self.layer_norm2(x))\n",
        "        return x\n",
        "\n",
        "class FeedForwardNetwork(nn.Module):\n",
        "    \"\"\"A simple linear network followed by a non-linearity\"\"\"\n",
        "    def __init__(self, EMBEDDING_DIM):\n",
        "        super().__init__()\n",
        "        self.ffn = nn.Sequential(\n",
        "            nn.Linear(in_features=EMBEDDING_DIM, out_features=EMBEDDING_DIM*4),\n",
        "            nn.ReLU(),\n",
        "            nn.Linear(4*EMBEDDING_DIM, EMBEDDING_DIM),\n",
        "            nn.Dropout(DROPOUT)\n",
        "        )\n",
        "    def forward(self, x):\n",
        "        return self.ffn(x)\n",
        "\n",
        "\n",
        "class TransformerLanguageModel(nn.Module):\n",
        "    def __init__(self):\n",
        "        super().__init__()\n",
        "        self.token_embedding_table = nn.Embedding(num_embeddings=VOCAB_SIZE, embedding_dim=EMBEDDING_DIM)\n",
        "        self.position_embedding_table = nn.Embedding(CONTEXT_LEN, EMBEDDING_DIM)\n",
        "\n",
        "        self.blocks = nn.Sequential(*(Block() for _ in range(N_LAYER)))\n",
        "        self.layer_norm = nn.LayerNorm(EMBEDDING_DIM)\n",
        "        self.language_model_head_linear_layer = nn.Linear(EMBEDDING_DIM, VOCAB_SIZE)\n",
        "\n",
        "    def forward(self, idx, targets=None):\n",
        "\n",
        "        B, T = idx.shape\n",
        "        token_embeddings = self.token_embedding_table(idx)\n",
        "        pos_embedding = self.position_embedding_table(torch.arange(T, device=DEVICE))\n",
        "        x = token_embeddings + pos_embedding #the x does not contain only information about the value of the token, but also about its position which is in line with the assumptions of the transformer architecture\n",
        "        x = self.blocks(x)\n",
        "        logits = self.language_model_head_linear_layer(x)\n",
        "\n",
        "        if targets is not None:\n",
        "            B,T,C = logits.shape\n",
        "            logits_reshaped = logits.view(B*T,C)\n",
        "            targets_reshaped = targets.view(B*T)\n",
        "            loss = F.cross_entropy(input=logits_reshaped, target=targets_reshaped)\n",
        "        else:\n",
        "            loss=None\n",
        "        return logits, loss\n",
        "\n",
        "    def generate(self, idx, max_new_tokens):\n",
        "        for _ in range(max_new_tokens):\n",
        "            idx_crop = idx[:,-CONTEXT_LEN:]\n",
        "            logits, loss = self(idx_crop)\n",
        "            logits_last_timestep = logits[:,-1,:]\n",
        "            probs = F.softmax(input=logits_last_timestep, dim=-1)\n",
        "            idx_next = torch.multinomial(input=probs, num_samples=1)\n",
        "            idx = torch.cat((idx, idx_next), dim=1)\n",
        "        return idx\n",
        "\n"
      ]
    },
    {
      "cell_type": "code",
      "execution_count": null,
      "metadata": {
        "id": "l0nsM-b2hX_4"
      },
      "outputs": [],
      "source": [
        "def get_batch(split, batch_size, context_length):\n",
        "    data = train_data if split == 'train' else valid_data\n",
        "\n",
        "    idxs = torch.randint(low=0, high=len(data)-CONTEXT_LEN, size=(BATCH_SIZE,))\n",
        "    x = torch.stack([data[idx:idx+CONTEXT_LEN] for idx in idxs])\n",
        "    y = torch.stack([data[idx+1:idx+CONTEXT_LEN+1] for idx in idxs])\n",
        "    x,y = x.to(DEVICE), y.to(DEVICE)\n",
        "    return x,y\n",
        "\n",
        "@torch.no_grad()\n",
        "def estimate_loss():\n",
        "    out = {}\n",
        "    #turn on evaluation mode\n",
        "    model.eval()\n",
        "    for split in ['train','valid']:\n",
        "        losses = torch.zeros(EVAL_ITERS)\n",
        "        for k in range(EVAL_ITERS):\n",
        "            x_batch, y_batch = get_batch(split, BATCH_SIZE, CONTEXT_LEN)\n",
        "            logits, loss = model(x_batch, y_batch)\n",
        "            losses[k] = loss.item()\n",
        "        out[split] = losses.mean()\n",
        "    #turn back to training mode\n",
        "    model.train()\n",
        "    return out"
      ]
    },
    {
      "cell_type": "code",
      "execution_count": null,
      "metadata": {
        "id": "xKkMzx9FhrZT"
      },
      "outputs": [],
      "source": [
        "#hyperparameter board\n",
        "\n",
        "BATCH_SIZE = 32 #number of token chunks per batch\n",
        "CONTEXT_LEN = 128 #length of the token chunks\n",
        "LEARNING_RATE = 3e-4\n",
        "MAX_ITERS = 3000 #number of training iterations or steps\n",
        "EVAL_INTERVAL = 300 #number of steps between evaluating the validation set to see how our validation loss is doing.\n",
        "EVAL_ITERS = 200 #number of steps to do on the validation set per each interval. We do more than 1 to get a more accurate overall valid loss\n",
        "DEVICE = 'cuda' if torch.cuda.is_available() else 'cpu' #instead of using the cpu, we'll use the GPU if it's availble.\n",
        "EMBEDDING_DIM = 384 #The vector size of the token embeddings\n",
        "VOCAB_SIZE = len(tokens)\n",
        "TORCH_SEED = 42\n",
        "BLOCK_SIZE = 4\n",
        "NUM_HEADS = 6\n",
        "HEAD_SIZE = int(EMBEDDING_DIM/NUM_HEADS)\n",
        "\n",
        "DROPOUT = 0.2\n",
        "N_LAYER = 6\n",
        "\n",
        "model = TransformerLanguageModel()"
      ]
    },
    {
      "cell_type": "code",
      "execution_count": null,
      "metadata": {
        "colab": {
          "base_uri": "https://localhost:8080/"
        },
        "id": "VD-5imbRiFBK",
        "outputId": "825d0445-eb58-4d6c-cbb1-1b4c4a560b7d"
      },
      "outputs": [
        {
          "name": "stdout",
          "output_type": "stream",
          "text": [
            "Step: 0 Training Loss: tensor(4.5027) Validation Loss: tensor(4.4973)\n",
            "Step: 200 Training Loss: tensor(2.3938) Validation Loss: tensor(2.4217)\n",
            "Step: 400 Training Loss: tensor(2.0358) Validation Loss: tensor(2.1059)\n",
            "Step: 600 Training Loss: tensor(1.8262) Validation Loss: tensor(1.9612)\n",
            "Step: 800 Training Loss: tensor(1.7030) Validation Loss: tensor(1.8537)\n",
            "Step: 1000 Training Loss: tensor(1.6224) Validation Loss: tensor(1.7837)\n",
            "Step: 1200 Training Loss: tensor(1.5600) Validation Loss: tensor(1.7369)\n",
            "Step: 1400 Training Loss: tensor(1.5146) Validation Loss: tensor(1.6985)\n",
            "Step: 1600 Training Loss: tensor(1.4798) Validation Loss: tensor(1.6762)\n",
            "Step: 1800 Training Loss: tensor(1.4446) Validation Loss: tensor(1.6532)\n",
            "Step: 2000 Training Loss: tensor(1.4132) Validation Loss: tensor(1.6315)\n",
            "Step: 2200 Training Loss: tensor(1.3892) Validation Loss: tensor(1.6117)\n",
            "Step: 2400 Training Loss: tensor(1.3716) Validation Loss: tensor(1.5913)\n",
            "Step: 2600 Training Loss: tensor(1.3534) Validation Loss: tensor(1.5889)\n",
            "Step: 2800 Training Loss: tensor(1.3322) Validation Loss: tensor(1.5724)\n",
            "Step: 2999 Training Loss: tensor(1.3173) Validation Loss: tensor(1.5668)\n",
            "\n",
            "xofety on things thou canst woful, foe to.\n",
            "\n",
            "LUCIO:\n",
            "I kneel this with thee; fulk shall it him honesty,\n",
            "Challoudded he bite for die.\n",
            "\n",
            "LUCIO:\n",
            "What Warwick, my noble, Elack to\n",
            "cravant know the air one own \n"
          ]
        }
      ],
      "source": [
        "#conventional training loop\n",
        "model = TransformerLanguageModel()\n",
        "model = model.to(DEVICE)\n",
        "optimizer = torch.optim.AdamW(params=model.parameters(), lr=LEARNING_RATE)\n",
        "best_val_loss = 10\n",
        "\n",
        "for step in range(MAX_ITERS):\n",
        "\n",
        "    if step % EVAL_ITERS == 0 or step == MAX_ITERS-1:\n",
        "        losses = estimate_loss()\n",
        "        print('Step:',step,'Training Loss:',losses['train'],'Validation Loss:',losses['valid'])\n",
        "\n",
        "    xb,yb = get_batch('train',BATCH_SIZE,CONTEXT_LEN)\n",
        "    logits, loss = model(xb,yb)\n",
        "    optimizer.zero_grad(set_to_none=True)\n",
        "    loss.backward()\n",
        "    optimizer.step()\n",
        "\n",
        "context = torch.zeros((1,1), dtype=torch.long, device=DEVICE)\n",
        "print()\n",
        "print(decode(model.generate(context,max_new_tokens=200)[0].tolist()))"
      ]
    },
    {
      "cell_type": "markdown",
      "metadata": {
        "id": "kQsQ0sZM5VEQ"
      },
      "source": [
        "I tried several different models. Their performance is summarized in the table.\n",
        "\n"
      ]
    },
    {
      "cell_type": "markdown",
      "metadata": {
        "id": "t6pzAjHN5bYk"
      },
      "source": [
        "\\begin{array}{|c|c|c|c|}\n",
        "\\hline\n",
        "no & batch \\ size & context \\ lenght & loss \\ value & training \\ time\\\\\n",
        "\\hline\n",
        "1 & 64 & 256 & 1.50 & 36 \\ min \\ on \\ T4 \\ GPU\\\\\n",
        "\\hline\n",
        "2 & 64 & 128 & 1.57 & 12 \\ min \\ on \\ T4 \\ GPU\\\\\n",
        "\\hline\n",
        "3 & 32 & 256 & 1.60 & 14 \\ min \\ on \\ T4 \\ GPU\\\\\n",
        "\\hline\n",
        "4 & 32 & 128 & 1.62 & 6 \\ min \\ on \\ T4 \\ GPU\\\\\n",
        "\\hline\n",
        "\\end{array}\n",
        "\n",
        "Important additional information:\n",
        "\n",
        "- models 1 and 2 were prone to very large overfitting (large difference in the value of the loss function between the training set and the validation set plus reaching a plateau from a certain point in training). The reason for this condition was probably that the hyperparameters were too large for such a small dataset.\n",
        "\n",
        "- as can be seen, under the given conditions, the difference between the different trainings (based on the value of the loss function) is insignificant while the training time differs by a factor of six between the fastest and slowest training. Moreover, extending the training process from 2,000 to 3,000 (training time ~9 min) steps for the 4 model brought the loss function to a value of 1.56, which is already a very competitive performance compared to larger models trained for this project\n",
        "\n",
        "- of course, it is possible to save the weights determined during the training of the model, but in a situation where training takes 6 minutes I decided that it was not necessary\n",
        "\n",
        "- you can see that the architecture presented in the publication differs significantly from the one we implemented. This is due to the fact that *Attention is All You Need* designed the Decoder-Encoder architecture, while we only implemented the Encoder part. This is due to the difference in the goals we wanted to achieve (generating text based on trained text) compared to the authors of the paper (translation model, with a specific context given)\n",
        "\n",
        "\n",
        "\n",
        "**Comparison to commercial available LLM**\n"
      ]
    },
    {
      "cell_type": "code",
      "execution_count": null,
      "metadata": {
        "colab": {
          "base_uri": "https://localhost:8080/"
        },
        "id": "ggmU6AUn8Nca",
        "outputId": "387318e9-af4d-45da-c0ae-5beda6ba8dd5"
      },
      "outputs": [
        {
          "name": "stdout",
          "output_type": "stream",
          "text": [
            "10739777\n"
          ]
        }
      ],
      "source": [
        "#print the number of parameters\n",
        "\n",
        "print(sum(p.numel() for p in model.parameters()))"
      ]
    },
    {
      "cell_type": "markdown",
      "metadata": {
        "id": "IDkCUFYg9PJ4"
      },
      "source": [
        "So our model has about 10 million parameters, by comparison, the largest model in the GPT-3 family has 175 BILLIONS parameters whereas GPT-4 has 1.7 TRILLION parameters.\n",
        "\n",
        "The fact that such an extremely small model, learned on a set of tokens that are representations of individual characters in a text after only 6 minutes of training can generate a text that not only looks like an existing language but also often resembles English is astounding"
      ]
    },
    {
      "cell_type": "markdown",
      "source": [
        "## (Update 30.01) Changing the tokenisation method"
      ],
      "metadata": {
        "id": "uP40bEK7Q0v7"
      }
    },
    {
      "cell_type": "markdown",
      "source": [
        "I'm still experimenting with this architecture and finally managed to train a model based on a different tokenization"
      ],
      "metadata": {
        "id": "l1UdA8vuREux"
      }
    },
    {
      "cell_type": "code",
      "source": [
        "import torch\n",
        "import torch.nn as nn\n",
        "from torch.nn import functional as F\n",
        "import time\n",
        "\n",
        "!wget https://raw.githubusercontent.com/karpathy/char-rnn/master/data/tinyshakespeare/input.txt\n",
        "\n",
        "!pip -q install tiktoken"
      ],
      "metadata": {
        "id": "N7br6SO0RQgn",
        "colab": {
          "base_uri": "https://localhost:8080/"
        },
        "outputId": "19206f92-2773-4f38-b958-27f3bea57559"
      },
      "execution_count": null,
      "outputs": [
        {
          "output_type": "stream",
          "name": "stdout",
          "text": [
            "--2024-01-30 12:12:56--  https://raw.githubusercontent.com/karpathy/char-rnn/master/data/tinyshakespeare/input.txt\n",
            "Resolving raw.githubusercontent.com (raw.githubusercontent.com)... 185.199.108.133, 185.199.109.133, 185.199.111.133, ...\n",
            "Connecting to raw.githubusercontent.com (raw.githubusercontent.com)|185.199.108.133|:443... connected.\n",
            "HTTP request sent, awaiting response... 200 OK\n",
            "Length: 1115394 (1.1M) [text/plain]\n",
            "Saving to: ‘input.txt’\n",
            "\n",
            "\rinput.txt             0%[                    ]       0  --.-KB/s               \rinput.txt           100%[===================>]   1.06M  --.-KB/s    in 0.05s   \n",
            "\n",
            "2024-01-30 12:12:56 (20.6 MB/s) - ‘input.txt’ saved [1115394/1115394]\n",
            "\n",
            "\u001b[2K     \u001b[90m━━━━━━━━━━━━━━━━━━━━━━━━━━━━━━━━━━━━━━━━\u001b[0m \u001b[32m2.0/2.0 MB\u001b[0m \u001b[31m9.6 MB/s\u001b[0m eta \u001b[36m0:00:00\u001b[0m\n",
            "\u001b[?25h\u001b[31mERROR: pip's dependency resolver does not currently take into account all the packages that are installed. This behaviour is the source of the following dependency conflicts.\n",
            "llmx 0.0.15a0 requires cohere, which is not installed.\n",
            "llmx 0.0.15a0 requires openai, which is not installed.\u001b[0m\u001b[31m\n",
            "\u001b[0m"
          ]
        }
      ]
    },
    {
      "cell_type": "code",
      "source": [
        "with open('input.txt') as f:\n",
        "    text = f.read()\n",
        "\n",
        "#tokenisation\n",
        "tokens = set(list(text))\n",
        "print(len(tokens))\n",
        "char_to_token = {char:idx for idx,char in enumerate(tokens)}\n",
        "token_to_char = {idx:char for char,idx in char_to_token.items()}\n",
        "\n",
        "encode = lambda x: [char_to_token[char] for char in x]\n",
        "decode = lambda idxs: ''.join([token_to_char[idx] for idx in idxs])\n",
        "encoded_text = torch.tensor(encode(text))\n",
        "\n",
        "#tiktoken\n",
        "import tiktoken\n",
        "\n",
        "enc = tiktoken.get_encoding(\"cl100k_base\")\n",
        "encoded_text = torch.tensor(enc.encode(text))\n",
        "tokens = set(list(encoded_text))\n",
        "print(len(tokens))\n",
        "# train test split\n",
        "train_test_split = 0.9\n",
        "train_data = encoded_text[:int(train_test_split*len(encoded_text))]\n",
        "valid_data = encoded_text[int(train_test_split*len(encoded_text)):]\n",
        "print('Train data length:',len(train_data),'Valid data length:',len(valid_data))\n",
        "\n",
        "print(\"Hello world (old tokenisation)\",encode('Hello world'))\n",
        "print('Hello world (new tokenisation)', enc.encode(\"Hello world\"))"
      ],
      "metadata": {
        "id": "9y7rrIJURazU",
        "colab": {
          "base_uri": "https://localhost:8080/"
        },
        "outputId": "aa9a24ba-89c4-4617-ce93-a4550bc7e8ff"
      },
      "execution_count": null,
      "outputs": [
        {
          "output_type": "stream",
          "name": "stdout",
          "text": [
            "65\n",
            "301829\n",
            "Train data length: 271646 Valid data length: 30183\n",
            "Hello world (old tokenisation) [52, 21, 62, 62, 29, 0, 11, 29, 1, 62, 19]\n",
            "Hello world (new tokenisation) [9906, 1917]\n"
          ]
        }
      ]
    },
    {
      "cell_type": "markdown",
      "source": [
        "As you can see the obtained tokens are more diverse this leads to greater data compression, however, this involves managing a larger dictionary (VOCAB_SIZE increases from 65 to over 300,000)"
      ],
      "metadata": {
        "id": "WHHnZ2ypSbYj"
      }
    },
    {
      "cell_type": "code",
      "source": [
        "#on google colab in the free version, we are forced to heavily truncate the hyperparameters of the model to fit within the limitations of available computing resources\n",
        "\n",
        "BATCH_SIZE = 8 #before 32\n",
        "CONTEXT_LEN = 64 #before 128\n",
        "LEARNING_RATE = 3e-4\n",
        "MAX_ITERS = 3000\n",
        "EVAL_INTERVAL = 500\n",
        "EVAL_ITERS = 200\n",
        "DEVICE = 'cuda' if torch.cuda.is_available() else 'cpu'\n",
        "EMBEDDING_DIM = 384\n",
        "VOCAB_SIZE = len(tokens) #now ~300,000 before 65\n",
        "TORCH_SEED = 42\n",
        "BLOCK_SIZE = 4\n",
        "NUM_HEADS = 6\n",
        "HEAD_SIZE = int(EMBEDDING_DIM/NUM_HEADS)\n",
        "\n",
        "DROPOUT = 0.2\n",
        "N_LAYER = 6\n",
        "\n",
        "class Head(nn.Module):\n",
        "    \"\"\" single head of self attention \"\"\"\n",
        "    def __init__(self):\n",
        "        super().__init__()\n",
        "        self.key_layer   = nn.Linear(in_features=EMBEDDING_DIM, out_features=HEAD_SIZE, bias=False)\n",
        "        self.query_layer = nn.Linear(in_features=EMBEDDING_DIM, out_features=HEAD_SIZE, bias=False)\n",
        "        self.value_layer = nn.Linear(in_features=EMBEDDING_DIM, out_features=HEAD_SIZE, bias=False)\n",
        "\n",
        "        self.register_buffer('tril', torch.tril(torch.ones((CONTEXT_LEN, CONTEXT_LEN))))\n",
        "        self.dropout = nn.Dropout(DROPOUT)\n",
        "    def forward(self, x):\n",
        "        B,T,C = x.shape\n",
        "        q = self.query_layer(x) #(B,T,C)\n",
        "        k = self.key_layer(x) #(B,T,C)\n",
        "        v = self.value_layer(x) #(B,T,C)\n",
        "\n",
        "        #compute scores based on affinities\n",
        "        weights = (q @ k.transpose(-2,-1)) * HEAD_SIZE**-0.5\n",
        "        weights = weights.masked_fill(self.tril[:T,:T] == 0, float('-inf'))\n",
        "        weights = F.softmax(input=weights, dim=-1)\n",
        "        weights = self.dropout(weights)\n",
        "\n",
        "\n",
        "        out = weights @ v\n",
        "        return out\n",
        "\n",
        "\n",
        "class MultiHeadAttention(nn.Module):\n",
        "    def __init__(self):\n",
        "        super().__init__()\n",
        "        self.heads = nn.ModuleList([Head() for _ in range(NUM_HEADS)])\n",
        "        self.projections = nn.Linear(EMBEDDING_DIM, EMBEDDING_DIM)\n",
        "        self.dropout = nn.Dropout(DROPOUT)\n",
        "\n",
        "    def forward(self, x):\n",
        "        out = torch.cat([h(x) for h in self.heads], dim=-1)\n",
        "        return self.projections(out)\n",
        "\n",
        "class Block(nn.Module):\n",
        "    \"\"\"Transformer Block: Communication folled by computation.\"\"\"\n",
        "    def __init__(self):\n",
        "        super().__init__()\n",
        "\n",
        "        self.multi_self_attention_heads_layer = MultiHeadAttention()\n",
        "        self.feed_forward_network = FeedForwardNetwork(EMBEDDING_DIM)\n",
        "        self.layer_norm1 = nn.LayerNorm(EMBEDDING_DIM)\n",
        "        self.layer_norm2 = nn.LayerNorm(EMBEDDING_DIM)\n",
        "    def forward(self, x):\n",
        "        x = x + self.multi_self_attention_heads_layer(self.layer_norm1(x))\n",
        "        x = x + self.feed_forward_network(self.layer_norm2(x))\n",
        "        return x\n",
        "\n",
        "class FeedForwardNetwork(nn.Module):\n",
        "    \"\"\"A simple linear network followed by a non-linearity\"\"\"\n",
        "    def __init__(self, EMBEDDING_DIM):\n",
        "        super().__init__()\n",
        "        self.ffn = nn.Sequential(\n",
        "            nn.Linear(in_features=EMBEDDING_DIM, out_features=EMBEDDING_DIM*4),\n",
        "            nn.ReLU(),\n",
        "            nn.Linear(4*EMBEDDING_DIM, EMBEDDING_DIM),\n",
        "            nn.Dropout(DROPOUT)\n",
        "        )\n",
        "    def forward(self, x):\n",
        "        return self.ffn(x)\n",
        "\n",
        "\n",
        "class TransformerLanguageModel(nn.Module):\n",
        "    def __init__(self):\n",
        "        super().__init__()\n",
        "        self.token_embedding_table = nn.Embedding(num_embeddings=VOCAB_SIZE, embedding_dim=EMBEDDING_DIM)\n",
        "        self.position_embedding_table = nn.Embedding(CONTEXT_LEN, EMBEDDING_DIM)\n",
        "\n",
        "        self.blocks = nn.Sequential(*(Block() for _ in range(N_LAYER)))\n",
        "        self.layer_norm = nn.LayerNorm(EMBEDDING_DIM)\n",
        "        self.language_model_head_linear_layer = nn.Linear(EMBEDDING_DIM, VOCAB_SIZE)\n",
        "\n",
        "    def forward(self, idx, targets=None):\n",
        "\n",
        "        B, T = idx.size()\n",
        "        token_embeddings = self.token_embedding_table(idx) #(B,T,C) Batch, Time, Channel - Lookup token embeddings #NEW\n",
        "        pos_embedding = self.position_embedding_table(torch.arange(T, device=DEVICE))\n",
        "        x = token_embeddings + pos_embedding #the x does not contain only information about the value of the token, but also about its position which is in line with the assumptions of the transformer architecture\n",
        "        x = self.blocks(x)\n",
        "        logits = self.language_model_head_linear_layer(x) #(B,T,C) Where C is now token logits of size vocab_size #UPDATE\n",
        "\n",
        "        if targets is not None:\n",
        "            B,T,C = logits.shape\n",
        "            logits_reshaped = logits.view(B*T,C)\n",
        "            targets_reshaped = targets.view(B*T)\n",
        "            loss = F.cross_entropy(input=logits_reshaped, target=targets_reshaped)\n",
        "        else:\n",
        "            loss=None\n",
        "        return logits, loss\n",
        "\n",
        "    def generate(self, idx, max_new_tokens):\n",
        "        for _ in range(max_new_tokens):\n",
        "            idx_crop = idx[:,-CONTEXT_LEN:]\n",
        "            logits, loss = self(idx_crop)\n",
        "            logits_last_timestep = logits[:,-1,:]\n",
        "            probs = F.softmax(input=logits_last_timestep, dim=-1)\n",
        "            idx_next = torch.multinomial(input=probs, num_samples=1)\n",
        "            idx = torch.cat((idx, idx_next), dim=1)\n",
        "        return idx\n",
        "\n",
        "def get_batch(split, batch_size=BATCH_SIZE, context_length=CONTEXT_LEN):\n",
        "    data = train_data if split == 'train' else valid_data\n",
        "\n",
        "    idxs = torch.randint(low=0, high=len(data)-CONTEXT_LEN, size=(BATCH_SIZE,))\n",
        "    x = torch.stack([data[idx:idx+CONTEXT_LEN] for idx in idxs])\n",
        "    y = torch.stack([data[idx+1:idx+CONTEXT_LEN+1] for idx in idxs])\n",
        "    x,y = x.to(DEVICE), y.to(DEVICE)\n",
        "    return x,y\n",
        "\n",
        "@torch.no_grad()\n",
        "def estimate_loss():\n",
        "    out = {}\n",
        "    #turn on evaluation mode\n",
        "    model.eval()\n",
        "    for split in ['train','valid']:\n",
        "        losses = torch.zeros(EVAL_ITERS)\n",
        "        for k in range(EVAL_ITERS):\n",
        "            x_batch, y_batch = get_batch(split)\n",
        "            logits, loss = model(x_batch, y_batch)\n",
        "            losses[k] = loss.item()\n",
        "        out[split] = losses.mean()\n",
        "    #turn back to training mode\n",
        "    model.train()\n",
        "    return out\n",
        "\n",
        "model = TransformerLanguageModel()\n",
        "\n",
        "#conventional training loop\n",
        "model = TransformerLanguageModel()\n",
        "model = model.to(DEVICE)\n",
        "optimizer = torch.optim.AdamW(params=model.parameters(), lr=LEARNING_RATE)\n",
        "best_val_loss = 10\n",
        "\n",
        "for step in range(MAX_ITERS):\n",
        "\n",
        "    if step % EVAL_ITERS == 0 or step == MAX_ITERS-1:\n",
        "        losses = estimate_loss()\n",
        "        print('Step:',step,'Training Loss:',losses['train'],'Validation Loss:',losses['valid'])\n",
        "\n",
        "        #saving model\n",
        "        if losses['valid'] < best_val_loss:\n",
        "          best_val_loss = losses['valid']\n",
        "    xb,yb = get_batch('train')\n",
        "    logits, loss = model(xb,yb)\n",
        "    optimizer.zero_grad(set_to_none=True)\n",
        "    loss.backward()\n",
        "    optimizer.step()\n",
        "\n",
        "context = torch.zeros((1,1), dtype=torch.long, device=DEVICE)\n",
        "print(enc.decode(model.generate(context,max_new_tokens=200)[0].tolist()))"
      ],
      "metadata": {
        "id": "le138YmGQ0EQ",
        "colab": {
          "base_uri": "https://localhost:8080/"
        },
        "outputId": "6daf854b-c02b-427a-8700-0cfd74350860"
      },
      "execution_count": null,
      "outputs": [
        {
          "output_type": "stream",
          "name": "stdout",
          "text": [
            "Step: 0 Training Loss: tensor(13.0549) Validation Loss: tensor(13.0582)\n",
            "Step: 200 Training Loss: tensor(6.0035) Validation Loss: tensor(6.6651)\n",
            "Step: 400 Training Loss: tensor(5.4055) Validation Loss: tensor(6.2192)\n",
            "Step: 600 Training Loss: tensor(5.1221) Validation Loss: tensor(6.0690)\n",
            "Step: 800 Training Loss: tensor(4.8879) Validation Loss: tensor(5.8738)\n",
            "Step: 1000 Training Loss: tensor(4.7284) Validation Loss: tensor(5.8251)\n",
            "Step: 1200 Training Loss: tensor(4.5894) Validation Loss: tensor(5.7368)\n",
            "Step: 1400 Training Loss: tensor(4.4432) Validation Loss: tensor(5.6800)\n",
            "Step: 1600 Training Loss: tensor(4.3217) Validation Loss: tensor(5.7255)\n",
            "Step: 1800 Training Loss: tensor(4.1883) Validation Loss: tensor(5.7388)\n",
            "Step: 2000 Training Loss: tensor(4.1268) Validation Loss: tensor(5.7275)\n",
            "Step: 2200 Training Loss: tensor(3.9988) Validation Loss: tensor(5.6877)\n",
            "Step: 2400 Training Loss: tensor(3.8871) Validation Loss: tensor(5.7562)\n",
            "Step: 2600 Training Loss: tensor(3.7966) Validation Loss: tensor(5.7954)\n",
            "Step: 2800 Training Loss: tensor(3.7170) Validation Loss: tensor(5.8635)\n",
            "Step: 2999 Training Loss: tensor(3.6195) Validation Loss: tensor(5.7623)\n",
            "! what is the prince come?\n",
            "Tush I my lie for my dancing soul to my.\n",
            "\n",
            "NORTHUMBERLAND:\n",
            "Your will you be tempted to me in either.\n",
            "\n",
            "HENRY BOLINGBROKE:\n",
            "Love all your majesty! our cousin's city\n",
            "My heart before the beastness of our friends,\n",
            "And mourn you still again,\n",
            "He cle'd in the fieldoms.\n",
            "\n",
            "LADY ANNE:\n",
            "A deadly usurpier wag.\n",
            "\n",
            "GLOUCESTER:\n",
            "Ay, as thou hast done both as the mayor's curse\n",
            "Was a story, John, glory else that fear it is, it think.\n",
            "\n",
            "GLOUCESTER:\n",
            "'Tis true, by tedious tale is safe,\n",
            "I little better using is no means to wear\n",
            "Which.\n",
            "\n",
            "Bfore?:\n",
            "IYea, where is the queen;\n",
            "For which I with myself,\n",
            "Upon unto myself and venom back.\n",
            "\n",
            "BUCKINGHAM:\n",
            "Well, it shake off my brother; now, my fault,\n",
            "And with me him,\n"
          ]
        }
      ]
    },
    {
      "cell_type": "markdown",
      "source": [
        "The change in the tokenization method, makes the text generated by the model much more English-like than before. And it's actually quite an expected effect: when you glue together text from sub-words, you're much more likely to get the actual word than when you glue together single letters. Probably if I had the opportunity to train the model with a longer context length the results would be even better."
      ],
      "metadata": {
        "id": "GB485GyXUzkd"
      }
    }
  ]
}